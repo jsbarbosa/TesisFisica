{
 "cells": [
  {
   "cell_type": "code",
   "execution_count": 1,
   "metadata": {},
   "outputs": [],
   "source": [
    "import sys\n",
    "sys.path += [\"..\"]"
   ]
  },
  {
   "cell_type": "code",
   "execution_count": 2,
   "metadata": {},
   "outputs": [],
   "source": [
    "import rebound\n",
    "import numpy as np\n",
    "from scipy.special import erf\n",
    "\n",
    "import matplotlib.cm as cm\n",
    "import matplotlib.pyplot as plt\n",
    "import matplotlib.gridspec as gridspec\n",
    "from mpl_toolkits.mplot3d import Axes3D\n",
    "import matplotlib.animation as animation\n",
    "\n",
    "\n",
    "from importlib import reload"
   ]
  },
  {
   "cell_type": "code",
   "execution_count": 3,
   "metadata": {},
   "outputs": [],
   "source": [
    "from smbh import *\n",
    "# smbh = reload(smbh)"
   ]
  },
  {
   "cell_type": "markdown",
   "metadata": {},
   "source": [
    "# Constants"
   ]
  },
  {
   "cell_type": "code",
   "execution_count": 4,
   "metadata": {},
   "outputs": [
    {
     "name": "stdout",
     "output_type": "stream",
     "text": [
      "1 3343.017837428943\n"
     ]
    }
   ],
   "source": [
    "constants.setDarkMatterScaleRadius(1)\n",
    "constants.SCALE_LENGTH = 0.06\n",
    "\n",
    "print(constants.DARK_MATTER_SCALE_RADIUS, constants.DARK_MATTER_DENSITY_0)"
   ]
  },
  {
   "cell_type": "code",
   "execution_count": 7,
   "metadata": {},
   "outputs": [],
   "source": [
    "p = 1e-6\n",
    "v = 60\n",
    "\n",
    "ps = sphericalToCartesian(p, np.pi / 4, np.pi / 4)\n",
    "vs = sphericalToCartesian(v, np.pi / 4, np.pi / 4)"
   ]
  },
  {
   "cell_type": "markdown",
   "metadata": {},
   "source": [
    "# Gravitational potential only"
   ]
  },
  {
   "cell_type": "code",
   "execution_count": 149,
   "metadata": {},
   "outputs": [],
   "source": [
    "def gravitational_only(sim):\n",
    "    pos = np.array(particle.xyz)\n",
    "    r = np.linalg.norm(pos)\n",
    "    coeff = -constants.G * (darkMatterMass(r) + baryonicMassHernquist(r)) / (r ** 2)\n",
    "    dir_ = pos / r\n",
    "    \n",
    "    particle.ax += coeff * dir_[0]\n",
    "    particle.ay += coeff * dir_[1]\n",
    "    particle.az += coeff * dir_[2]"
   ]
  },
  {
   "cell_type": "code",
   "execution_count": 150,
   "metadata": {},
   "outputs": [],
   "source": [
    "sim, particle = setupSimulation(1, ps, vs, gravitational_only, velocity_dependent = 0)\n",
    "sim.dt = 1e-6\n",
    "sim.integrator = 'leapfrog'\n",
    "times_g, positions_g, speeds_g = runSimulation(sim, particle, 10000)"
   ]
  },
  {
   "cell_type": "code",
   "execution_count": 151,
   "metadata": {},
   "outputs": [
    {
     "data": {
      "image/png": "[encoded data removed]",
      "text/plain": [
       "<Figure size 576x324 with 1 Axes>"
      ]
     },
     "metadata": {
      "needs_background": "light"
     },
     "output_type": "display_data"
    }
   ],
   "source": [
    "fig, ax = plotDistance(times_g, positions_g)\n",
    "ax.legend([\"$V_0 = %d$ kpcGyr$^{-1}$\"%v])\n",
    "\n",
    "# fig.savefig(\"gravitational_only.png\", dpi = 300)\n",
    "plt.show()"
   ]
  },
  {
   "cell_type": "markdown",
   "metadata": {},
   "source": [
    "# DM dynamical friction"
   ]
  },
  {
   "cell_type": "code",
   "execution_count": 94,
   "metadata": {},
   "outputs": [],
   "source": [
    "mass = 1\n",
    "\n",
    "def gravitational_DF(sim):\n",
    "    global mass\n",
    "    pos = np.array(particle.xyz)\n",
    "    speed = np.array(particle.vxyz)\n",
    "    r = np.linalg.norm(pos)\n",
    "    \n",
    "    dir_ = pos / r\n",
    "    grav = -constants.G * (darkMatterMass(r) + baryonicMassHernquist(r)) / (r ** 2)\n",
    "    \n",
    "    df = dynamicalFrictionDM(pos, speed, mass) + dynamicalFrictionGas(pos, speed, mass)\n",
    "    m_change = SMBHAccretion(pos, speed, mass)\n",
    "    v = np.linalg.norm(speed)\n",
    "    accretion = v * m_change / mass\n",
    "    if v < 1e-6:\n",
    "        print(df)\n",
    "#         if sim.contents.t > 0.012:\n",
    "#             print(df, v, accretion)\n",
    "#     else:\n",
    "#         df = dynamicalFrictionGas(pos, speed, mass) #[0, 0, 0]\n",
    "#         accretion = 0\n",
    "    \n",
    "    particle.ax += (grav + accretion) * dir_[0] + df[0]\n",
    "    particle.ay += (grav + accretion) * dir_[1] + df[1]\n",
    "    particle.az += (grav + accretion) * dir_[2] + df[2]"
   ]
  },
  {
   "cell_type": "code",
   "execution_count": 95,
   "metadata": {},
   "outputs": [],
   "source": [
    "sim, particle = setupSimulation(1, ps, vs, gravitational_DF)\n",
    "sim.dt = 1e-7\n",
    "sim.integrator = 'leapfrog'\n",
    "\n",
    "times_df, positions_df, speeds_df = runSimulation(sim, particle, 400000)#int(2 * 100 * 12000))"
   ]
  },
  {
   "cell_type": "code",
   "execution_count": 96,
   "metadata": {},
   "outputs": [],
   "source": [
    "fig, ax = plotDistance(times_df, positions_df)#, ax = ax)\n",
    "\n",
    "# ax.set_xlim(12, 25)\n",
    "ax.set_ylim(0, 1)\n",
    "# fig.savefig(\"gravitational_DF_dt1e-7_d1_b006.png\", dpi = 300)\n",
    "plt.show()"
   ]
  },
  {
   "cell_type": "code",
   "execution_count": 57,
   "metadata": {},
   "outputs": [],
   "source": [
    "df_dm = dynamicalFrictionDM(positions_df, speeds_df, 1)"
   ]
  },
  {
   "cell_type": "code",
   "execution_count": 74,
   "metadata": {},
   "outputs": [
    {
     "data": {
      "text/plain": [
       "[<matplotlib.lines.Line2D at 0x7fb5eff2aba8>]"
      ]
     },
     "execution_count": 74,
     "metadata": {},
     "output_type": "execute_result"
    }
   ],
   "source": [
    "plt.plot(np.linalg.norm(df_dm, axis = 1))\n",
    "# plt.ylim(0, 0.01)\n",
    "# plt.xlim(13.134, 13.14)\n",
    "# %matplotlib"
   ]
  },
  {
   "cell_type": "code",
   "execution_count": 63,
   "metadata": {},
   "outputs": [
    {
     "data": {
      "text/plain": [
       "41178"
      ]
     },
     "execution_count": 63,
     "metadata": {},
     "output_type": "execute_result"
    }
   ],
   "source": [
    "np.linalg.norm(speeds_df, axis = 1).argmin()"
   ]
  },
  {
   "cell_type": "code",
   "execution_count": 64,
   "metadata": {},
   "outputs": [
    {
     "data": {
      "text/plain": [
       "array([-1.98678625e-06, -1.98678625e-06, -2.80974003e-06])"
      ]
     },
     "execution_count": 64,
     "metadata": {},
     "output_type": "execute_result"
    }
   ],
   "source": [
    "speeds_df[41178]"
   ]
  },
  {
   "cell_type": "markdown",
   "metadata": {},
   "source": [
    "# STOP"
   ]
  },
  {
   "cell_type": "code",
   "execution_count": null,
   "metadata": {},
   "outputs": [],
   "source": [
    "rs = sphericalToCartesian(1e-3, 0, 0)\n",
    "\n",
    "Vs = [280, 281]\n",
    "\n",
    "times = []\n",
    "positions = []\n",
    "speeds = []\n",
    "\n",
    "for vs in Vs:\n",
    "    vs = sphericalToCartesian(vs, np.pi / 4, np.pi / 4)\n",
    "    sim, particle = setupSimulation(1, rs, vs, gravitational_DM_DF)\n",
    "    t, p, s = runSimulation(sim, particle, 2000)\n",
    "    times.append(t)\n",
    "    positions.append(p)\n",
    "    speeds.append(s)"
   ]
  },
  {
   "cell_type": "code",
   "execution_count": null,
   "metadata": {},
   "outputs": [],
   "source": [
    "fig, ax = plotDistance(times[0], positions[0])\n",
    "fig, ax = plotDistance(times[1], positions[1], ax = ax)\n",
    "\n",
    "ax.legend([\"$V_0 = 280$ kpcGyr$^{-1}$\",\n",
    "           \"$V_0 = 281$ kpcGyr$^{-1}$\"])\n",
    "plt.show()"
   ]
  },
  {
   "cell_type": "code",
   "execution_count": null,
   "metadata": {},
   "outputs": [],
   "source": []
  }
 ],
 "metadata": {
  "kernelspec": {
   "display_name": "tesisFisica",
   "language": "python",
   "name": "tesisfisica"
  },
  "language_info": {
   "codemirror_mode": {
    "name": "ipython",
    "version": 3
   },
   "file_extension": ".py",
   "mimetype": "text/x-python",
   "name": "python",
   "nbconvert_exporter": "python",
   "pygments_lexer": "ipython3",
   "version": "3.6.7"
  }
 },
 "nbformat": 4,
 "nbformat_minor": 2
}
