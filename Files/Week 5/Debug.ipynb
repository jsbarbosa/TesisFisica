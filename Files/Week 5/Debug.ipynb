{
 "cells": [
  {
   "cell_type": "code",
   "execution_count": 23,
   "metadata": {},
   "outputs": [],
   "source": [
    "import sys\n",
    "sys.path += [\"..\"]"
   ]
  },
  {
   "cell_type": "code",
   "execution_count": 25,
   "metadata": {},
   "outputs": [],
   "source": [
    "import smbh\n",
    "import numpy as np"
   ]
  },
  {
   "cell_type": "markdown",
   "metadata": {},
   "source": [
    "# Natural units\n",
    "\n",
    "## Gravitational constant\n",
    "\n",
    "$m \\rightarrow 10^5 M_{\\theta}$\n",
    "\n",
    "$t \\rightarrow 1 \\text{ Gyr}$\n",
    "\n",
    "$d \\rightarrow 1 \\text{ kpc}$\n",
    "\n",
    "$$\n",
    "    G = G_0 \\left(\\dfrac{1 \\text{ kpc}^3}{\\left(3.0857\\times10^{19}\\right)^3  \\text{ m}^3}\\right)\\left(\\dfrac{\\left(3.154\\times10^{16}\\right)^2 \\text{ s}^2}{1 \\text{ Gyr}^2}\\right)\\left(\\dfrac{1.98847\\times10^{35} \\text{ kg}}{10^5 M_\\theta}\\right)\n",
    "$$"
   ]
  },
  {
   "cell_type": "code",
   "execution_count": 26,
   "metadata": {},
   "outputs": [
    {
     "name": "stdout",
     "output_type": "stream",
     "text": [
      "0.4498489819471222\n"
     ]
    }
   ],
   "source": [
    "from scipy.constants import G as G_0 # m3s-2kg-1\n",
    "\n",
    "kpc = 3.0856776e19 # in m\n",
    "gyr = 60 * 60 * 24 * 365.25 * 1e9 # in s\n",
    "sm = 1.98847e30 # in kg\n",
    "\n",
    "distance = kpc ** -3\n",
    "time = gyr ** 2\n",
    "mass = sm * 1e5 # 1e5 solar masses base unit\n",
    "\n",
    "G = G_0 * distance * time * mass\n",
    "\n",
    "print(G)"
   ]
  },
  {
   "cell_type": "markdown",
   "metadata": {},
   "source": [
    "## Hubble constant\n",
    "\n",
    "$$\n",
    "    H = H_0 \\left(\\dfrac{1 \\text{ kpc}}{3.0857\\times10^{16} \\text{ km}}\\right)\\left(\\dfrac{3.154\\times10^{16} \\text{ s}}{1 \\text{ Gyr}}\\right)\\left(\\dfrac{1 \\text{ Mpc}}{1000 \\text{ kpc}}\\right)\n",
    "$$"
   ]
  },
  {
   "cell_type": "code",
   "execution_count": 27,
   "metadata": {},
   "outputs": [
    {
     "data": {
      "text/plain": [
       "0.06919670467193331"
      ]
     },
     "execution_count": 27,
     "metadata": {},
     "output_type": "execute_result"
    }
   ],
   "source": [
    "H_0 = 67.66\n",
    "kpc2 = 1 / (3.0856776e16) # 1 kpc in km\n",
    "H = H_0 * kpc2 * gyr / 1000\n",
    "# H = H_0 / 1000\n",
    "\n",
    "H"
   ]
  },
  {
   "cell_type": "markdown",
   "metadata": {},
   "source": [
    "# Distributions\n",
    "## Dark matter density\n",
    "\n",
    "$$\n",
    "    \\rho_\\text{DM}(r) = \\dfrac{\\rho_0^\\text{DM}}{\\frac{r}{R_s}\\left(1 + \\frac{r}{R_s}\\right)^2}\n",
    "$$\n",
    "\n",
    "```\n",
    "double darkMatterDensity(double r)\n",
    "{\n",
    "    // r += SOFTENING_RADIUS;\n",
    "    double factor = r / DARK_MATTER_SCALE_RADIUS;\n",
    "    return DARK_MATTER_DENSITY_0 / (factor * pow(1 + factor, 2));\n",
    "}\n",
    "```"
   ]
  },
  {
   "cell_type": "markdown",
   "metadata": {},
   "source": [
    "## Dark matter cumulative mass\n",
    "\n",
    "$$\n",
    "    M_{DM}(r) = 4\\pi\\rho_0^\\text{DM}R_s^3\\left[\\ln\\left(\\dfrac{R_s + r}{R_s}\\right) - \\dfrac{r}{R_s + r}\\right] \\qquad M_{DM}(R_{vir}) \\equiv M_h\n",
    "$$\n",
    "\n",
    "```\n",
    "double darkMatterMass(double r)\n",
    "{\n",
    "    double factor = log(1 + r / DARK_MATTER_SCALE_RADIUS) - r / (DARK_MATTER_SCALE_RADIUS + r);\n",
    "    return 4 * PI * DARK_MATTER_DENSITY_0 * factor * pow(DARK_MATTER_SCALE_RADIUS, 3);\n",
    "}\n",
    "```"
   ]
  },
  {
   "cell_type": "code",
   "execution_count": 14,
   "metadata": {},
   "outputs": [],
   "source": [
    "def darkMatterMass(r):\n",
    "    global DARK_MATTER_SCALE_RADIUS, DARK_MATTER_DENSITY_0\n",
    "    factor = log(1 + r / DARK_MATTER_SCALE_RADIUS) - r / (DARK_MATTER_SCALE_RADIUS + r);\n",
    "    return 4 * PI * DARK_MATTER_DENSITY_0 * factor * pow(DARK_MATTER_SCALE_RADIUS, 3);"
   ]
  },
  {
   "cell_type": "markdown",
   "metadata": {},
   "source": [
    "## Hernquist density\n",
    "\n",
    "$$\n",
    "    \\rho_B(r) = \\dfrac{M_T^B \\mathcal{R}_s}{2\\pi r(r + \\mathcal{R}_s)^3}\n",
    "$$\n",
    "\n",
    "```\n",
    "double baryonicDensityHernquist(double r)\n",
    "{\n",
    "    // r += SOFTENING_RADIUS;\n",
    "    return BARYONIC_TOTAL_MASS * BARYONIC_SCALE_LENGTH / (2 * PI * r * pow(r + BARYONIC_SCALE_LENGTH, 3));\n",
    "}\n",
    "```"
   ]
  },
  {
   "cell_type": "code",
   "execution_count": 16,
   "metadata": {},
   "outputs": [],
   "source": [
    "def baryonicDensityHernquist(r):\n",
    "    global PI, BARYONIC_TOTAL_MASS, BARYONIC_SCALE_LENGTH\n",
    "#     r += SOFTENING_RADIUS\n",
    "    return BARYONIC_TOTAL_MASS * BARYONIC_SCALE_LENGTH / (2 * PI * r * pow(r + BARYONIC_SCALE_LENGTH, 3))"
   ]
  },
  {
   "cell_type": "markdown",
   "metadata": {},
   "source": [
    "## Hernquist cumulative mass\n",
    "\n",
    "$$\n",
    "    M_B(r) = \\dfrac{M_T^B r^2}{(r + \\mathcal{R}_s)^2}\n",
    "$$\n",
    "\n",
    "```\n",
    "double baryonicMassHernquist(double r)\n",
    "{\n",
    "    return BARYONIC_TOTAL_MASS * pow(r / (r + BARYONIC_SCALE_LENGTH), 2);\n",
    "}\n",
    "```"
   ]
  },
  {
   "cell_type": "code",
   "execution_count": 17,
   "metadata": {},
   "outputs": [],
   "source": [
    "def baryonicMassHernquist(r):\n",
    "    global BARYONIC_TOTAL_MASS, BARYONIC_SCALE_LENGTH\n",
    "    return BARYONIC_TOTAL_MASS * pow(r / (r + BARYONIC_SCALE_LENGTH), 2)"
   ]
  },
  {
   "cell_type": "markdown",
   "metadata": {},
   "source": [
    "\n",
    "$$\n",
    "    R_{1/2} = \\left(1 + \\sqrt{2}\\right)\\mathcal{R}_s\n",
    "$$"
   ]
  },
  {
   "cell_type": "markdown",
   "metadata": {},
   "source": [
    "## Constants assigment\n",
    "\n",
    "### R vir\n",
    "$$\n",
    "    \\bar{\\rho} = \\dfrac{M}{V} = \\dfrac{M_h}{4/3\\pi R_\\text{vir}^3} = \\dfrac{3M_h}{4\\pi R_\\text{vir}^3} \\equiv 200 \\rho_\\text{crit} = 200\\left(\\dfrac{3H^2}{8\\pi G}\\right)\n",
    "$$\n",
    "\n",
    "$$\n",
    "    \\text{R_VIR} = R_\\text{vir} = \\left(\\dfrac{GM_h}{100 H^2}\\right)^{1/3} \\approx 9.79 \\text{ kpc}\n",
    "$$"
   ]
  },
  {
   "cell_type": "code",
   "execution_count": 20,
   "metadata": {},
   "outputs": [
    {
     "data": {
      "text/plain": [
       "9.794117400135734"
      ]
     },
     "execution_count": 20,
     "metadata": {},
     "output_type": "execute_result"
    }
   ],
   "source": [
    "HALO_MASS = 1e3\n",
    "R_VIR = (G * HALO_MASS / (100 * H**2))**(1/3)\n",
    "R_VIR"
   ]
  },
  {
   "cell_type": "markdown",
   "metadata": {},
   "source": [
    "### DARK_MATTER_SCALE_RADIUS\n",
    "$$\n",
    "    \\text{DARK_MATTER_SCALE_RADIUS} = R_s = \\dfrac{R_\\text{vir}}{c}\n",
    "$$"
   ]
  },
  {
   "cell_type": "code",
   "execution_count": 21,
   "metadata": {},
   "outputs": [
    {
     "data": {
      "text/plain": [
       "2.4485293500339336"
      ]
     },
     "execution_count": 21,
     "metadata": {},
     "output_type": "execute_result"
    }
   ],
   "source": [
    "DARK_MATTER_SCALE_RADIUS = R_VIR / 4\n",
    "DARK_MATTER_SCALE_RADIUS"
   ]
  },
  {
   "cell_type": "markdown",
   "metadata": {},
   "source": [
    "### DARK_MATTER_DENSITY_0\n",
    "To obtain the value of $\\rho_0^\\text{DM}$, the cumulative dark matter mass was evaluated at $R_\\text{vir}$.\n",
    "$$\n",
    "    M_h \\equiv M_\\text{DM}(R_\\text{vir}) = 4\\pi\\rho_0^\\text{DM}R_s^3 \\left[\\ln\\left(\\dfrac{R_s + c(M_h, z)R_s}{R_s}\\right) - \\dfrac{c(M_h, z)R_s}{R_s + c(M_h, z)R_s}\\right]\n",
    "$$\n",
    "$$\n",
    "    \\text{DARK_MATTER_DENSITY_0} = \\rho_0^\\text{DM} = \\dfrac{M_h}{4\\pi R_s^3 \\left[\\ln\\left(1 + c(M_h, z)\\right) - \\dfrac{c(M_h, z)}{1 + c(M_h, z)}\\right]}\n",
    "$$\n",
    "\n",
    "```\n",
    "double darkMatterDensity0(double c)\n",
    "{\n",
    "    double factor = log(1 + c) - c / (1 + c);\n",
    "    return HALO_MASS / (4 * PI * pow(DARK_MATTER_SCALE_RADIUS, 3) * factor);\n",
    "}\n",
    "```"
   ]
  },
  {
   "cell_type": "code",
   "execution_count": null,
   "metadata": {},
   "outputs": [],
   "source": []
  },
  {
   "cell_type": "markdown",
   "metadata": {},
   "source": [
    "# Equation of movement\n",
    "\n",
    "## Choksi et al\n",
    "$$\n",
    "    \\ddot{x} = \\left(-\\dfrac{GM_h(x)}{x^2} + a_{DF} - \\dot x\\dfrac{\\dot M_\\bullet}{M_\\bullet} - qH^2x\\right)\\hat{x} \\qquad \\text{as on paper, } M_h(x) = M_{DM}(x)\n",
    "$$\n",
    "\n",
    "## Mine\n",
    "$$\n",
    "    \\ddot{\\vec{x}} = \\left(-\\dfrac{GM(x)}{x^2} - \\dot x\\dfrac{\\dot M_\\bullet}{M_\\bullet}\\right)\\hat{x} + \\vec{a}_{DF} \\qquad M(x) = M_{DM}(x) + M_{B}(x)\n",
    "$$\n",
    "\n"
   ]
  },
  {
   "cell_type": "code",
   "execution_count": null,
   "metadata": {},
   "outputs": [],
   "source": []
  }
 ],
 "metadata": {
  "kernelspec": {
   "display_name": "Python 3",
   "language": "python",
   "name": "python3"
  },
  "language_info": {
   "codemirror_mode": {
    "name": "ipython",
    "version": 3
   },
   "file_extension": ".py",
   "mimetype": "text/x-python",
   "name": "python",
   "nbconvert_exporter": "python",
   "pygments_lexer": "ipython3",
   "version": "3.6.7"
  }
 },
 "nbformat": 4,
 "nbformat_minor": 2
}
