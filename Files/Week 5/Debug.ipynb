{
 "cells": [
  {
   "cell_type": "code",
   "execution_count": 1,
   "metadata": {},
   "outputs": [],
   "source": [
    "import sys\n",
    "sys.path += [\"..\"]"
   ]
  },
  {
   "cell_type": "code",
   "execution_count": 2,
   "metadata": {},
   "outputs": [],
   "source": [
    "import smbh\n",
    "import numpy as np\n",
    "\n",
    "import matplotlib.pyplot as plt"
   ]
  },
  {
   "cell_type": "markdown",
   "metadata": {},
   "source": [
    "# Natural units\n",
    "\n",
    "## Gravitational constant\n",
    "\n",
    "$m \\rightarrow 10^5 M_{\\theta}$\n",
    "\n",
    "$t \\rightarrow 1 \\text{ Gyr}$\n",
    "\n",
    "$d \\rightarrow 1 \\text{ kpc}$\n",
    "\n",
    "$$\n",
    "    G = G_0 \\left(\\dfrac{1 \\text{ kpc}^3}{\\left(3.0857\\times10^{19}\\right)^3  \\text{ m}^3}\\right)\\left(\\dfrac{\\left(3.154\\times10^{16}\\right)^2 \\text{ s}^2}{1 \\text{ Gyr}^2}\\right)\\left(\\dfrac{1.98847\\times10^{35} \\text{ kg}}{10^5 M_\\theta}\\right)\n",
    "$$"
   ]
  },
  {
   "cell_type": "code",
   "execution_count": 1,
   "metadata": {},
   "outputs": [
    {
     "name": "stdout",
     "output_type": "stream",
     "text": [
      "0.4498489819471222\n"
     ]
    }
   ],
   "source": [
    "from scipy.constants import G as G_0 # m3s-2kg-1\n",
    "\n",
    "kpc = 3.0856776e19 # in m\n",
    "gyr = 60 * 60 * 24 * 365.25 * 1e9 # in s\n",
    "sm = 1.98847e30 # in kg\n",
    "\n",
    "distance = kpc ** -3\n",
    "time = gyr ** 2\n",
    "mass = sm * 1e5 # 1e5 solar masses base unit\n",
    "\n",
    "G = G_0 * distance * time * mass\n",
    "\n",
    "print(G)"
   ]
  },
  {
   "cell_type": "markdown",
   "metadata": {},
   "source": [
    "## Hubble constant\n",
    "\n",
    "$$\n",
    "    H = H_0 \\left(\\dfrac{1 \\text{ kpc}}{3.0857\\times10^{16} \\text{ km}}\\right)\\left(\\dfrac{3.154\\times10^{16} \\text{ s}}{1 \\text{ Gyr}}\\right)\\left(\\dfrac{1 \\text{ Mpc}}{1000 \\text{ kpc}}\\right)\n",
    "$$"
   ]
  },
  {
   "cell_type": "code",
   "execution_count": 4,
   "metadata": {},
   "outputs": [
    {
     "name": "stdout",
     "output_type": "stream",
     "text": [
      "1.022712e-03\n"
     ]
    },
    {
     "data": {
      "text/plain": [
       "0.06919670467193331"
      ]
     },
     "execution_count": 4,
     "metadata": {},
     "output_type": "execute_result"
    }
   ],
   "source": [
    "H_0 = 67.66\n",
    "kpc2 = 1 / (3.0856776e16) # 1 kpc in km\n",
    "factor = (kpc2 * gyr / 1000)\n",
    "H = H_0 * factor\n",
    "# H = H_0 / 1000\n",
    "\n",
    "print(\"%e\"%factor)\n",
    "\n",
    "H"
   ]
  },
  {
   "cell_type": "markdown",
   "metadata": {},
   "source": [
    "# Distributions\n",
    "## Dark matter density\n",
    "\n",
    "$$\n",
    "    \\rho_\\text{DM}(r) = \\dfrac{\\rho_0^\\text{DM}}{\\frac{r}{R_s}\\left(1 + \\frac{r}{R_s}\\right)^2}\n",
    "$$\n",
    "\n",
    "```\n",
    "double darkMatterDensity(double r)\n",
    "{\n",
    "    // r += SOFTENING_RADIUS;\n",
    "    double factor = r / DARK_MATTER_SCALE_RADIUS;\n",
    "    return DARK_MATTER_DENSITY_0 / (factor * pow(1 + factor, 2));\n",
    "}\n",
    "```"
   ]
  },
  {
   "cell_type": "markdown",
   "metadata": {},
   "source": [
    "## Dark matter cumulative mass\n",
    "\n",
    "$$\n",
    "    M_{DM}(r) = 4\\pi\\rho_0^\\text{DM}R_s^3\\left[\\ln\\left(\\dfrac{R_s + r}{R_s}\\right) - \\dfrac{r}{R_s + r}\\right] \\qquad M_{DM}(R_{vir}) \\equiv M_h\n",
    "$$\n",
    "\n",
    "```\n",
    "double darkMatterMass(double r)\n",
    "{\n",
    "    double factor = log(1 + r / DARK_MATTER_SCALE_RADIUS) - r / (DARK_MATTER_SCALE_RADIUS + r);\n",
    "    return 4 * PI * DARK_MATTER_DENSITY_0 * factor * pow(DARK_MATTER_SCALE_RADIUS, 3);\n",
    "}\n",
    "```"
   ]
  },
  {
   "cell_type": "markdown",
   "metadata": {},
   "source": [
    "## Hernquist density\n",
    "\n",
    "$$\n",
    "    \\rho_B(r) = \\dfrac{M_T^B \\mathcal{R}_s}{2\\pi r(r + \\mathcal{R}_s)^3}\n",
    "$$\n",
    "\n",
    "```\n",
    "double stellarDensityHernquist(double r)\n",
    "{\n",
    "    // r += SOFTENING_RADIUS;\n",
    "    return STELLAR_TOTAL_MASS * STELLAR_SCALE_LENGTH / (2 * PI * r * pow(r + STELLAR_SCALE_LENGTH, 3));\n",
    "}\n",
    "```"
   ]
  },
  {
   "cell_type": "markdown",
   "metadata": {},
   "source": [
    "## Hernquist cumulative mass\n",
    "\n",
    "$$\n",
    "    M_S(r) = \\dfrac{M_T^S r^2}{(r + \\mathcal{R}_s)^2} \\qquad M_T^S = \\beta f_bM_h \\text{ where $\\beta$ is the percentage of stellar mass from the total baryonic composition}\n",
    "$$\n",
    "\n",
    "```\n",
    "double stellarMassHernquist(double r)\n",
    "{\n",
    "    return STELLAR_TOTAL_MASS * pow(r / (r + STELLAR_SCALE_LENGTH), 2);\n",
    "}\n",
    "```"
   ]
  },
  {
   "cell_type": "markdown",
   "metadata": {},
   "source": []
  },
  {
   "cell_type": "markdown",
   "metadata": {},
   "source": [
    "## Constants assigment\n",
    "\n",
    "### R vir\n",
    "$$\n",
    "    \\bar{\\rho} = \\dfrac{M}{V} = \\dfrac{M_h}{4/3\\pi R_\\text{vir}^3} = \\dfrac{3M_h}{4\\pi R_\\text{vir}^3} \\equiv 200 \\rho_\\text{crit} = 200\\left(\\dfrac{3H^2}{8\\pi G}\\right)\n",
    "$$\n",
    "\n",
    "$$\n",
    "    \\text{R_VIR} = R_\\text{vir} = \\left(\\dfrac{GM_h}{100 H^2}\\right)^{1/3} \\approx 9.79 \\text{ kpc}\n",
    "$$"
   ]
  },
  {
   "cell_type": "markdown",
   "metadata": {},
   "source": [
    "### DARK_MATTER_SCALE_RADIUS\n",
    "$$\n",
    "    \\text{DARK_MATTER_SCALE_RADIUS} = R_s = \\dfrac{R_\\text{vir}}{c}\n",
    "$$"
   ]
  },
  {
   "cell_type": "markdown",
   "metadata": {},
   "source": [
    "### DARK_MATTER_DENSITY_0\n",
    "To obtain the value of $\\rho_0^\\text{DM}$, the cumulative dark matter mass was evaluated at $R_\\text{vir}$.\n",
    "$$\n",
    "    M_h \\equiv M_\\text{DM}(R_\\text{vir}) = 4\\pi\\rho_0^\\text{DM}R_s^3 \\left[\\ln\\left(\\dfrac{R_s + c(M_h, z)R_s}{R_s}\\right) - \\dfrac{c(M_h, z)R_s}{R_s + c(M_h, z)R_s}\\right]\n",
    "$$\n",
    "$$\n",
    "    \\text{DARK_MATTER_DENSITY_0} = \\rho_0^\\text{DM} = \\dfrac{M_h}{4\\pi R_s^3 \\left[\\ln\\left(1 + c(M_h, z)\\right) - \\dfrac{c(M_h, z)}{1 + c(M_h, z)}\\right]}\n",
    "$$\n",
    "\n",
    "```\n",
    "double darkMatterDensity0(double c)\n",
    "{\n",
    "    double factor = log(1 + c) - c / (1 + c);\n",
    "    return HALO_MASS / (4 * PI * pow(DARK_MATTER_SCALE_RADIUS, 3) * factor);\n",
    "}\n",
    "```\n",
    "\n",
    "### STELLAR_SCALE_LENGTH\n",
    "\n",
    "$$\n",
    "    R_{1/2} = \\left(1 + \\sqrt{2}\\right)\\mathcal{R}_s \\qquad \\longrightarrow \\qquad \\mathcal{R}_s = \\dfrac{R_{1/2}}{1 + \\sqrt{2}} = \\dfrac{0.01 R_\\text{vir}}{1 + \\sqrt{2}}\n",
    "$$"
   ]
  },
  {
   "cell_type": "code",
   "execution_count": 5,
   "metadata": {},
   "outputs": [
    {
     "name": "stdout",
     "output_type": "stream",
     "text": [
      "9.794117400135734\n"
     ]
    }
   ],
   "source": [
    "R_VIR = ((G * 1e3) / (100 * H**2)) ** (1/3)\n",
    "print(R_VIR)\n",
    "smbh.setR_vir(R_VIR)\n",
    "smbh.printConstants()"
   ]
  },
  {
   "cell_type": "markdown",
   "metadata": {},
   "source": [
    "on terminal:\n",
    "```\n",
    "R_VIR: 9.790000\n",
    "DARK_MATTER_SCALE_RADIUS: 2.447500\n",
    "DARK_MATTER_DENSITY_0: 6.705613\n",
    "STELLAR_SCALE_LENGTH: 0.040552\n",
    "GAS_DENSITY: 0.449503\n",
    "```"
   ]
  },
  {
   "cell_type": "code",
   "execution_count": 6,
   "metadata": {},
   "outputs": [
    {
     "data": {
      "text/plain": [
       "6.697159641322615"
      ]
     },
     "execution_count": 6,
     "metadata": {},
     "output_type": "execute_result"
    }
   ],
   "source": [
    "smbh.darkMatterDensity0(4)"
   ]
  },
  {
   "cell_type": "markdown",
   "metadata": {},
   "source": [
    "## Dynamical Friction Collisionless\n",
    "\n",
    "$$\n",
    "    a_\\text{DF}^\\text{DM}(r, v) = -4\\pi G^2 M_\\bullet\\rho(r) \\times \\ln \\Lambda\\left(\\text{erf}{X} - \\dfrac{2}{\\sqrt{\\pi}}Xe^{-X^2}\\right)\\dfrac{\\vec{v}}{v^3}\n",
    "$$\n",
    "$$\n",
    "    X \\equiv \\dfrac{|v|}{\\sqrt{2}\\sigma_\\text{DM}} \\qquad \\text{with } \\sigma_\\text{DM}(r) = \\sqrt{\\dfrac{GM_\\text{DM}}{2R_\\text{vir}}}\n",
    "$$\n",
    "\n",
    "```\n",
    "double *dynamicalFrictionDM(double *position, double *speed)\n",
    "{\n",
    "    double r = getNorm(position);\n",
    "    double v = getNorm(speed);\n",
    "\n",
    "    double mass = HALO_MASS;\n",
    "    // double mass = darkMatterMass(r);\n",
    "    double sigma = pow(0.5 * G0 * mass / R_VIR, 0.5);\n",
    "    double x = v / (pow(2, 0.5) * sigma);\n",
    "\n",
    "    double rho = darkMatterDensity(r) + stellarDensityHernquist(r);\n",
    "    double factor = -4 * PI * pow(G0, 2) * SMBH_MASS * rho * LN_LAMBDA\n",
    "                * (erf(x) - 2 / pow(PI, 0.5) * x * exp(-pow(x, 2)));\n",
    "\n",
    "    factor *= 1 / (pow(v, 3) + SOFTENING_RADIUS);\n",
    "    // factor *= 0.5;\n",
    "    double *ac = malloc(3 * sizeof(double));\n",
    "\n",
    "    ac[0] = factor * speed[0];\n",
    "    ac[1] = factor * speed[1];\n",
    "    ac[2] = factor * speed[2];\n",
    "    return ac;\n",
    "}\n",
    "```\n",
    "## Dynamical Friction Gas\n",
    "\n",
    "$$\n",
    "    \\mathcal{M} \\equiv \\dfrac{v}{c_s}\n",
    "$$\n",
    "\n",
    "$$\n",
    "    c_s \\approx 1.8(1 + z)^{1/2}\\left(\\dfrac{M_h}{10^7M_\\odot}\\right)^{1/3}\\left(\\dfrac{\\Omega_M h^2}{0.14}\\right)\\text{ kms$^{-1}$}\n",
    "$$\n",
    "\n",
    "\n",
    "```\n",
    "double getLocalSoundSpeed(double z)\n",
    "{\n",
    "    double factor1, factor2;\n",
    "    factor1 =  pow(HALO_MASS / 1e2, 1./3);\n",
    "    factor2 = (MATTER_DENSITY_PARAMETER * pow(h, 2) / 0.14);\n",
    "    return 1.8 * pow(1 + z, 0.5) * factor1 * factor2;\n",
    "}\n",
    "```\n",
    "\n",
    "\n",
    "$$\n",
    "    a^\\text{gas}_\\text{DF}(r, \\vec{v}) = -4\\pi G^2M_\\bullet\\rho_\\text{gas}(r)\\times f(\\mathcal{M})\\dfrac{\\vec{v}}{v^3}\n",
    "$$\n",
    "with\n",
    "$$\n",
    "    f(\\mathcal{M}) = \\left\\{\n",
    "    \\begin{matrix}\n",
    "    0.5\\ln\\Lambda \\left[\\erf{\\dfrac{\\mathcal{M}}{\\sqrt{2}}} - \\sqrt{\\dfrac{2}{\\pi}}\\mathcal{M}e^{-\\mathcal{M}^2/2}\\right]& \\text{if $\\mathcal{M} \\leq 0.8$}\\\\\n",
    "    1.5\\ln\\Lambda \\left[\\erf{\\dfrac{\\mathcal{M}}{\\sqrt{2}}} - \\sqrt{\\dfrac{2}{\\pi}}\\mathcal{M}e^{-\\mathcal{M}^2/2}\\right] & \\text{if $0.8 < \\mathcal{M} \\leq 1.7$}\\\\\n",
    "    0.5\\ln\\left(1 - \\mathcal{M}^{-2}\\right) + \\ln\\Lambda & \\text{if $\\mathcal{M} > 1.7$}\n",
    "    \\end{matrix}\n",
    "    \\right.\n",
    "$$\n",
    "\n",
    "Gas density is taken as a power law:\n",
    "$$\n",
    "    \\rho_\\text{gas}(r) = \\rho_0^\\text{gas}r^{-2}\n",
    "$$\n",
    "$$\n",
    "    M_\\text{gas}(r) = 4\\pi\\rho_0^\\text{gas}\\int_0^r dr = 4\\pi\\rho_0^\\text{gas} r\n",
    "$$\n",
    "\n",
    "At the virial radius:\n",
    "$$\n",
    "    M_\\text{gas}(R_\\text{vir}) \\equiv (1 - \\beta) f_bM_h = 4\\pi\\rho_0^\\text{gas} r\n",
    "$$\n",
    "\n",
    "From which one gets:\n",
    "$$\n",
    "    \\rho_0^\\text{gas} = \\dfrac{(1 - \\beta) f_bM_h}{4\\pi R_\\text{vir}}\n",
    "$$\n",
    "\n",
    "```\n",
    "GAS_DENSITY = (1 - STELLAR_RATIO) * fb * HALO_MASS / (4 * PI * R_VIR);\n",
    "\n",
    "double gasDensity(double r)\n",
    "{\n",
    "    return GAS_DENSITY * pow(r, -2);\n",
    "}\n",
    "\n",
    "double gasMass(double r)\n",
    "{\n",
    "  return 4 * PI * GAS_DENSITY * r;\n",
    "}\n",
    "\n",
    "double *dynamicalFrictionGas(double *position, double *speed)\n",
    "{\n",
    "    double f, all;\n",
    "    double cs = getLocalSoundSpeed(20);\n",
    "    double v = getNorm(speed);\n",
    "    double mach = v / cs;\n",
    "    if (mach <= 1.7)\n",
    "    {\n",
    "        double factor = erf(mach / pow(2, 0.5)) - pow(2 / PI, 0.5) * mach * exp(-0.5 * pow(mach, 2));\n",
    "        if (mach <= 0.8) f = 0.5 * LN_LAMBDA * factor;\n",
    "        else f = 1.5 * LN_LAMBDA * factor;\n",
    "    }\n",
    "    else f = 0.5 * log(1 - pow(mach, -2)) + LN_LAMBDA;\n",
    "\n",
    "    double rho = gasDensity(getNorm(position));\n",
    "\n",
    "    all = -4 * PI * pow(G0, 2) * SMBH_MASS * rho * f / (pow(v, 3) + SOFTENING_SPEED);\n",
    "    double *ac = malloc(3 * sizeof(double));\n",
    "    ac[0] = all * speed[0];\n",
    "    ac[1] = all * speed[1];\n",
    "    ac[2] = all * speed[2];\n",
    "    return  ac;\n",
    "}\n",
    "```\n",
    "\n",
    "## Accretion\n",
    "$$\n",
    "    \\dot{M}_\\bullet^\\text{Bondi}(r, v) = \\dfrac{4\\pi G^2 \\rho_B(r)M^2_\\bullet}{\\left(c_s^2 + v^2\\right)^{3/2}}\n",
    "$$\n",
    "\n",
    "$$\n",
    "    \\dot{M}_\\bullet^\\text{Edd}(r, v) = \\dfrac{(1 - \\epsilon)M_\\bullet}{\\epsilon t_\\text{Edd}} \\qquad \\epsilon = 0.1, \\quad t_\\text{Edd} = 0.44 \\text{ Gyr}\n",
    "$$\n",
    "\n",
    "Real accretion is given by:\n",
    "$$\n",
    "    \\dot{M}_\\bullet(r, v) = \\left\\{\n",
    "    \\begin{matrix}\n",
    "    \\dot{M}_\\bullet^\\text{Bondi}(r, v) & \\text{if $\\dot{M}_\\bullet^\\text{Bondi} < \\dot{M}_\\bullet^\\text{Edd}(r, v)$} \\\\\n",
    "    \\dot{M}_\\bullet^\\text{Edd}(r, v) & \\text{else}\n",
    "    \\end{matrix}\n",
    "    \\right.\n",
    "$$\n",
    "\n",
    "\n",
    "```\n",
    "double SMBHAccretion(double *position, double *speed)\n",
    "{\n",
    "    double r = getNorm(position);\n",
    "    double v = pow(pow(getLocalSoundSpeed(20), 2) + pow(getNorm(speed), 2), 1.5);\n",
    "\n",
    "    double bondi = 4 * PI * pow(G0 * SMBH_MASS, 2) * stellarDensityHernquist(r) / v;\n",
    "    double eddington = (1 - 0.1) * SMBH_MASS / (0.1 * 0.44);\n",
    "    if (bondi < eddington) return bondi;\n",
    "    return eddington;\n",
    "}\n",
    "\n",
    "```"
   ]
  },
  {
   "cell_type": "markdown",
   "metadata": {},
   "source": [
    "# Equation of movement\n",
    "\n",
    "## Choksi et al\n",
    "$$\n",
    "    \\ddot{x} = \\left(-\\dfrac{GM_h(x)}{x^2} + a_{DF} - \\dot x\\dfrac{\\dot M_\\bullet}{M_\\bullet} - qH^2x\\right)\\hat{x} \\qquad \\text{as on paper, } M_h(x) = M_{DM}(x)\n",
    "$$\n",
    "\n",
    "## Mine\n",
    "$$\n",
    "    \\ddot{\\vec{x}} = \\left(-\\dfrac{GM(x)}{x^2} - \\dot x\\dfrac{\\dot M_\\bullet}{M_\\bullet}\\right)\\hat{x} + \\vec{a}_{DF} \\qquad M(x) = M_{DM}(x) + M_{S}(x) + M_{G}(x)\n",
    "$$\n",
    "\n",
    "```\n",
    "double gravitationalForce(double r)\n",
    "{\n",
    "    double m = darkMatterMass(r);\n",
    "    m += stellarMassHernquist(r);\n",
    "    m += gasMass(r);\n",
    "    return -G0 * m / pow(r, 2);\n",
    "}\n",
    "\n",
    "void baseCase(struct reb_simulation* sim)\n",
    "{\n",
    "    struct reb_particle *particle = &(sim->particles[0]);\n",
    "    double pos[3] = {particle->x, particle->y, particle->z};\n",
    "    double speed[3] = {particle->vx, particle->vy, particle->vz};\n",
    "    double r = getNorm(pos);\n",
    "    double dir_[3] = {pos[0] / r, pos[1] / r, pos[2] / r};\n",
    "\n",
    "    double grav = gravitationalForce(r);\n",
    "    double *df_g = dynamicalFrictionGas(pos, speed);\n",
    "    double *df_dm = dynamicalFrictionDM(pos, speed);\n",
    "    double df[3] = {df_g[0] + df_dm[0], df_g[1] + df_dm[1], df_g[2] + df_dm[2]};\n",
    "\n",
    "    free(df_g);\n",
    "    free(df_dm);\n",
    "\n",
    "    double m_change = SMBHAccretion(pos, speed);\n",
    "    SMBH_MASS += m_change * SIM_DT;\n",
    "\n",
    "    double v = getNorm(speed);\n",
    "    double accretion = v * m_change / SMBH_MASS;\n",
    "\n",
    "    grav += accretion;\n",
    "\n",
    "    particle->ax = grav * dir_[0] + df[0];\n",
    "    particle->ay = grav * dir_[1] + df[1];\n",
    "    particle->az = grav * dir_[2] + df[2];\n",
    "}\n",
    "```\n"
   ]
  },
  {
   "cell_type": "code",
   "execution_count": 7,
   "metadata": {},
   "outputs": [
    {
     "data": {
      "text/plain": [
       "2.2443497817198703e+34"
      ]
     },
     "execution_count": 7,
     "metadata": {},
     "output_type": "execute_result"
    }
   ],
   "source": [
    "smbh.gravitationalForce(1e-32)"
   ]
  },
  {
   "cell_type": "code",
   "execution_count": 9,
   "metadata": {},
   "outputs": [
    {
     "data": {
      "image/png": "[encoded data removed]",
      "text/plain": [
       "<Figure size 576x324 with 3 Axes>"
      ]
     },
     "metadata": {
      "needs_background": "light"
     },
     "output_type": "display_data"
    }
   ],
   "source": [
    "r0 = 0\n",
    "v0 = 70 * 1.023 # to kpc / gyr\n",
    "\n",
    "POS = smbh.sphericalToCartesian(r0, np.pi / 4, np.pi / 4)\n",
    "SPEEDS = smbh.sphericalToCartesian(v0, np.pi / 4, np.pi / 4)\n",
    "\n",
    "dt = 1e-6\n",
    "smbh_m = 1\n",
    "until = 0.065 # gyr\n",
    "n_points = until // dt\n",
    "filename = \"Results.dat\"\n",
    "\n",
    "smbh.setR_vir(R_VIR)\n",
    "smbh.printConstants()\n",
    "t, pos, speeds, masses = smbh.run(POS, SPEEDS, smbh_m, dt, n_points, n_points // 10, filename, delete_file = False)\n",
    "\n",
    "# t, pos, speeds, masses = smbh.readFile(filename%r_vir)\n",
    "smbh.plotProperties(t, pos, speeds, masses, R_VIR)\n",
    "\n",
    "plt.show()"
   ]
  },
  {
   "cell_type": "code",
   "execution_count": null,
   "metadata": {},
   "outputs": [],
   "source": []
  }
 ],
 "metadata": {
  "kernelspec": {
   "display_name": "Python 3",
   "language": "python",
   "name": "python3"
  },
  "language_info": {
   "codemirror_mode": {
    "name": "ipython",
    "version": 3
   },
   "file_extension": ".py",
   "mimetype": "text/x-python",
   "name": "python",
   "nbconvert_exporter": "python",
   "pygments_lexer": "ipython3",
   "version": "3.6.7"
  }
 },
 "nbformat": 4,
 "nbformat_minor": 2
}
