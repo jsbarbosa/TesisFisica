{
 "cells": [
  {
   "cell_type": "code",
   "execution_count": 1,
   "metadata": {},
   "outputs": [],
   "source": [
    "import rebound\n",
    "import scipy.integrate as integrate"
   ]
  },
  {
   "cell_type": "code",
   "execution_count": 2,
   "metadata": {},
   "outputs": [],
   "source": [
    "import numpy as np\n",
    "import matplotlib.pyplot as plt\n",
    "import matplotlib.gridspec as gridspec"
   ]
  },
  {
   "cell_type": "code",
   "execution_count": 3,
   "metadata": {},
   "outputs": [],
   "source": [
    "def slicePlot(data, axes = None):\n",
    "    if axes == None:\n",
    "        gs = gridspec.GridSpec(2, 2)\n",
    "        ax1 = plt.subplot(gs[1, 0])\n",
    "        ax2 = plt.subplot(gs[0, 0])\n",
    "        ax3 = plt.subplot(gs[1, 1])\n",
    "    else:\n",
    "        ax1, ax2, ax3 = axes\n",
    "    \n",
    "    c = ax1.plot(data[:, 0], data[:, 1])[0].get_color()\n",
    "    ax1.plot(data[0, 0], data[0, 1], 'o', c = c, alpha = 0.5)\n",
    "    ax1.plot(data[-1, 0], data[-1, 1], 'o', c = c, alpha = 0.7)\n",
    "    ax1.plot([0], [0], 'o')\n",
    "    ax2.plot(data[:, 0], data[:, 2])\n",
    "    ax3.plot(data[:, 2], data[:, 1])\n",
    "\n",
    "    ax2.get_xaxis().set_visible(False)\n",
    "    ax3.get_yaxis().set_visible(False)\n",
    "    \n",
    "    ax1.set_xlabel('$x$')\n",
    "    ax1.set_ylabel('$y$')\n",
    "    ax2.set_ylabel('$z$')\n",
    "    ax3.set_xlabel('$z$')\n",
    "    \n",
    "    return (ax1, ax2, ax3)\n",
    "\n",
    "class Particle(object):\n",
    "    def __init__(self, simulation_particle):\n",
    "        self.simulation_particle = simulation_particle\n",
    "        \n",
    "        self.positions = []\n",
    "        self.speeds = []\n",
    "        \n",
    "    def savePosition(self):\n",
    "        self.positions += [self.simulation_particle.xyz]\n",
    "        \n",
    "    def saveSpeeds(self):\n",
    "        self.speeds += [self.simulation_particle.vxyz]\n",
    "        \n",
    "    def saveState(self):\n",
    "        self.savePosition()\n",
    "        self.saveSpeeds()\n",
    "        \n",
    "    def getPositions(self):\n",
    "        if type(self.positions) is list:\n",
    "            self.positions = np.array(self.positions)\n",
    "        return self.positions\n",
    "    \n",
    "    def getSpeeds(self):\n",
    "        if type(self.speeds) is list:\n",
    "            self.speeds = np.array(self.speeds)\n",
    "        return self.speeds"
   ]
  },
  {
   "cell_type": "markdown",
   "metadata": {},
   "source": [
    "# Gaussian distribution of mass\n",
    "\n",
    "For a gaussian symmetric mass distribution:\n",
    "\n",
    "$$\n",
    "    m(\\vec{r}) \\propto e^{-\\alpha r^2} \\qquad \\text{Where $\\alpha$ determines how fast mass decays with distance}\n",
    "$$\n",
    "\n",
    "Normalizing:\n",
    "\n",
    "$$\n",
    "    \\int\\limits_0^\\infty e^{-\\alpha r^2}dr = \\dfrac{1}{2}\\sqrt{\\dfrac{\\pi}{\\alpha}}\n",
    "$$\n",
    "\n",
    "$$\n",
    "    m(\\vec{r}) \\propto 2\\sqrt{\\dfrac{\\alpha}{\\pi}} e^{-\\alpha r^2}\n",
    "$$\n",
    "\n",
    "Considering an arbitraty total mass $m_T$:\n",
    "$$\n",
    "    m(\\vec{r}) = 2 m_t \\sqrt{\\dfrac{\\alpha}{\\pi}} e^{-\\alpha r^2}\n",
    "$$\n",
    "\n",
    "A body at a point $\\vec{r}$ will feel the mass of all the bodies in a radius $r$ as if it was in the center of mass.\n",
    "$$\n",
    "    M_h(\\vec{r}) = \\int\\limits_0^{r} m(\\vec{r}) d\\vec{r}\n",
    "$$"
   ]
  },
  {
   "cell_type": "code",
   "execution_count": 4,
   "metadata": {},
   "outputs": [],
   "source": [
    "def gaussianMass(r, total_mass = 100, alpha = 0.1):\n",
    "    factor = 0.5 * (np.pi / alpha) ** 0.5\n",
    "    r2 = r * r    \n",
    "    return total_mass * np.exp(- alpha * r2) / factor\n",
    "\n",
    "def massAtR(function, r):\n",
    "    return integrate.quad(function, 0, r)[0]"
   ]
  },
  {
   "cell_type": "code",
   "execution_count": 5,
   "metadata": {},
   "outputs": [
    {
     "data": {
      "image/png": "[encoded data removed]",
      "text/plain": [
       "<Figure size 432x288 with 2 Axes>"
      ]
     },
     "metadata": {
      "needs_background": "light"
     },
     "output_type": "display_data"
    }
   ],
   "source": [
    "xs = np.linspace(0, 10, 100)\n",
    "masses = gaussianMass(xs)\n",
    "\n",
    "masses_integrated = [massAtR(gaussianMass, r) for r in xs]\n",
    "\n",
    "fig, ax1 = plt.subplots()\n",
    "ax2 = ax1.twinx()\n",
    "\n",
    "ax1.plot(xs, masses)\n",
    "ax2.plot(xs, masses_integrated, c = 'g')\n",
    "\n",
    "ax1.set_ylabel('Mass')\n",
    "ax2.set_ylabel('Effective mass', color = 'g')\n",
    "ax1.set_xlabel('Distance')\n",
    "\n",
    "ax2.tick_params('y', colors = 'g')\n",
    "\n",
    "plt.show()"
   ]
  },
  {
   "cell_type": "markdown",
   "metadata": {},
   "source": [
    "# Rebound simulation\n",
    "The force for a single body will be given by:\n",
    "$$\n",
    "    \\ddot{\\vec{x}} = -\\dfrac{GM_h(x)}{x^2}\\hat{x}\n",
    "$$"
   ]
  },
  {
   "cell_type": "code",
   "execution_count": 6,
   "metadata": {},
   "outputs": [],
   "source": [
    "def additional_force(sim, epsilon = 0.01):\n",
    "    global particle, G\n",
    "    pos = np.array(particle.xyz)\n",
    "    r = sum(pos ** 2 + epsilon) ** 0.5\n",
    "    coeff = G * massAtR(gaussianMass, r) / (r ** 2)\n",
    "    dir_ = pos / r\n",
    "    \n",
    "    particle.ax -= coeff * dir_[0]\n",
    "    particle.ay -= coeff * dir_[1]\n",
    "    particle.az -= coeff * dir_[2]"
   ]
  },
  {
   "cell_type": "code",
   "execution_count": 14,
   "metadata": {},
   "outputs": [],
   "source": [
    "sim = rebound.Simulation()\n",
    "sim.add(m = 1.0e-5, x = 0, y = 1, z = 0, vx = 10)\n",
    "\n",
    "dt = 0.01\n",
    "G = 1\n",
    "particle = sim.particles[0]\n",
    "sim.additional_forces = additional_force"
   ]
  },
  {
   "cell_type": "code",
   "execution_count": 15,
   "metadata": {},
   "outputs": [],
   "source": [
    "n_points = 1000\n",
    "\n",
    "times = np.zeros(n_points)\n",
    "positions = np.zeros((n_points, 3))\n",
    "speeds = np.zeros((n_points, 3))"
   ]
  },
  {
   "cell_type": "code",
   "execution_count": 17,
   "metadata": {},
   "outputs": [],
   "source": [
    "def do():\n",
    "    for i in range(n_points):\n",
    "        times[i] = times[i - 1] + dt\n",
    "        sim.integrate(times[i], exact_finish_time = 0) # integrate to the nearest timestep so WHFast's timestep stays constant\n",
    "        positions[i] = particle.xyz\n",
    "        speeds[i] = particle.vxyz"
   ]
  },
  {
   "cell_type": "code",
   "execution_count": 20,
   "metadata": {},
   "outputs": [
    {
     "name": "stdout",
     "output_type": "stream",
     "text": [
      "CPU times: user 729 ms, sys: 0 ns, total: 729 ms\n",
      "Wall time: 731 ms\n"
     ]
    }
   ],
   "source": [
    "%%time\n",
    "do()"
   ]
  },
  {
   "cell_type": "code",
   "execution_count": 10,
   "metadata": {},
   "outputs": [
    {
     "data": {
      "image/png": "[encoded data removed]",
      "text/plain": [
       "<Figure size 432x288 with 3 Axes>"
      ]
     },
     "metadata": {
      "needs_background": "light"
     },
     "output_type": "display_data"
    }
   ],
   "source": [
    "axes = slicePlot(positions)"
   ]
  },
  {
   "cell_type": "markdown",
   "metadata": {},
   "source": [
    "$$\n",
    "    \\ddot{\\vec{x}} = \\left(-\\dfrac{GM_h(x)}{x^2} + a_{DF}-\\ddot{x}\\dfrac{\\dot{M_\\bullet}}{M_\\bullet} -qH^2x\\right)\\hat{x}\n",
    "$$"
   ]
  },
  {
   "cell_type": "code",
   "execution_count": null,
   "metadata": {},
   "outputs": [],
   "source": []
  }
 ],
 "metadata": {
  "kernelspec": {
   "display_name": "tesisFisica",
   "language": "python",
   "name": "tesisfisica"
  },
  "language_info": {
   "codemirror_mode": {
    "name": "ipython",
    "version": 3
   },
   "file_extension": ".py",
   "mimetype": "text/x-python",
   "name": "python",
   "nbconvert_exporter": "python",
   "pygments_lexer": "ipython3",
   "version": "3.6.7"
  }
 },
 "nbformat": 4,
 "nbformat_minor": 2
}
