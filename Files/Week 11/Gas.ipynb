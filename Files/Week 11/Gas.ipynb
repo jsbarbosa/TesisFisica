{
 "cells": [
  {
   "cell_type": "code",
   "execution_count": 1,
   "metadata": {},
   "outputs": [],
   "source": [
    "import numpy as np\n",
    "import matplotlib.pyplot as plt\n",
    "\n",
    "import sympy as spy\n",
    "spy.init_printing()"
   ]
  },
  {
   "cell_type": "code",
   "execution_count": 2,
   "metadata": {},
   "outputs": [],
   "source": [
    "rho_0, r, r_0, n, u, G = spy.symbols(r\"\\rho_0 r r_0 n u G\", real = True, positive = True)"
   ]
  },
  {
   "cell_type": "code",
   "execution_count": 3,
   "metadata": {},
   "outputs": [],
   "source": [
    "rho = rho_0 / (1 + r / r_0) ** n\n",
    "M = 4 * spy.pi * rho * r ** 2"
   ]
  },
  {
   "cell_type": "code",
   "execution_count": 4,
   "metadata": {},
   "outputs": [
    {
     "data": {
      "image/png": "[encoded data removed]",
      "text/latex": [
       "$$\\frac{4 \\pi \\rho_0 r_{0}^{3} \\left(u + 1\\right)^{- n} \\left(n^{2} u^{2} \\left(- u - 1\\right) + n u \\left(3 u^{2} + u - 2\\right) - 2 u^{3} + 2 \\left(u + 1\\right)^{n} - 2\\right)}{\\left(n - 3\\right) \\left(n - 2\\right) \\left(n - 1\\right)}$$"
      ],
      "text/plain": [
       "            3        -n ⎛ 2  2                ⎛   2        ⎞      3           \n",
       "4⋅π⋅\\rho₀⋅r₀ ⋅(u + 1)  ⋅⎝n ⋅u ⋅(-u - 1) + n⋅u⋅⎝3⋅u  + u - 2⎠ - 2⋅u  + 2⋅(u + 1\n",
       "──────────────────────────────────────────────────────────────────────────────\n",
       "                               (n - 3)⋅(n - 2)⋅(n - 1)                        \n",
       "\n",
       " n    ⎞\n",
       ")  - 2⎠\n",
       "───────\n",
       "       "
      ]
     },
     "execution_count": 4,
     "metadata": {},
     "output_type": "execute_result"
    }
   ],
   "source": [
    "M = 4 * spy.pi * rho_0 * r_0 ** 3 * (u + 1) ** -n * (-(u + 1)*(n * u)**2 + \\\n",
    "                                                   2 * ((u + 1) ** n - u ** 3 - 1) + \\\n",
    "                                                   n * u * (3 * u ** 2 + u - 2)) \\\n",
    "    / ((n - 3) * (n - 2) * (n - 1))\n",
    "M"
   ]
  },
  {
   "cell_type": "code",
   "execution_count": 5,
   "metadata": {},
   "outputs": [
    {
     "data": {
      "image/png": "[encoded data removed]",
      "text/latex": [
       "$$- \\frac{4 \\pi G \\rho_0 \\left(r + r_{0}\\right)^{- n} \\left(2 n r^{2} r_{0}^{n + 4} + r^{3} r_{0}^{n + 3} \\left(n - 1\\right) + r r_{0}^{n + 5} \\left(n + 3\\right) - 2 r_{0}^{6} \\left(r + r_{0}\\right)^{n} + 2 r_{0}^{n + 6}\\right)}{r r_{0}^{3} \\left(n - 3\\right) \\left(n - 2\\right) \\left(n - 1\\right)}$$"
      ],
      "text/plain": [
       "                     -n ⎛     2   n + 4    3   n + 3               n + 5      \n",
       "-4⋅π⋅G⋅\\rho₀⋅(r + r₀)  ⋅⎝2⋅n⋅r ⋅r₀      + r ⋅r₀     ⋅(n - 1) + r⋅r₀     ⋅(n + \n",
       "──────────────────────────────────────────────────────────────────────────────\n",
       "                                             3                                \n",
       "                                         r⋅r₀ ⋅(n - 3)⋅(n - 2)⋅(n - 1)        \n",
       "\n",
       "         6         n       n + 6⎞ \n",
       "3) - 2⋅r₀ ⋅(r + r₀)  + 2⋅r₀     ⎠ \n",
       "──────────────────────────────────\n",
       "                                  \n",
       "                                  "
      ]
     },
     "execution_count": 5,
     "metadata": {},
     "output_type": "execute_result"
    }
   ],
   "source": [
    "phi = - G * (M * r_0 / (u * r_0) ** 2).integrate(u)\n",
    "# phi = (-G * M / r ** 2).subs(u, r / r_0).integrate(r)\n",
    "phi = phi.factor().simplify()\n",
    "phi_ = phi.subs(u, r / r_0).simplify()\n",
    "phi_"
   ]
  },
  {
   "cell_type": "code",
   "execution_count": 6,
   "metadata": {},
   "outputs": [
    {
     "data": {
      "image/png": "[encoded data removed]",
      "text/latex": [
       "$$0$$"
      ],
      "text/plain": [
       "0"
      ]
     },
     "execution_count": 6,
     "metadata": {},
     "output_type": "execute_result"
    }
   ],
   "source": [
    "left = ((phi_ * r).diff(r).diff(r) / r).simplify()\n",
    "right = - 4 * spy.pi * G * rho\n",
    "\n",
    "(left - right).simplify()"
   ]
  },
  {
   "cell_type": "markdown",
   "metadata": {},
   "source": [
    "# Poisson equation\n",
    "\n",
    "$$\n",
    "    \\nabla^2\\phi(r) = -4\\pi G\\rho(r)\n",
    "$$\n",
    "\n",
    "$$\n",
    "    \\nabla^2\\phi = \\dfrac{1}{r}\\dfrac{d^2}{dr^2}r\\phi(r) = -4\\pi G\\rho(r)\n",
    "$$"
   ]
  },
  {
   "cell_type": "code",
   "execution_count": 7,
   "metadata": {},
   "outputs": [
    {
     "data": {
      "image/png": "[encoded data removed]",
      "text/latex": [
       "$$r \\frac{d^{2}}{d r^{2}} \\phi{\\left (r \\right )} + 2 \\frac{d}{d r} \\phi{\\left (r \\right )} = - 4 \\pi G \\rho_0 r \\left(\\frac{r}{r_{0}} + 1\\right)^{- n}$$"
      ],
      "text/plain": [
       "    2                                                   -n\n",
       "   d               d                            ⎛r     ⎞  \n",
       "r⋅───(\\phi(r)) + 2⋅──(\\phi(r)) = -4⋅π⋅G⋅\\rho₀⋅r⋅⎜── + 1⎟  \n",
       "    2              dr                           ⎝r₀    ⎠  \n",
       "  dr                                                      "
      ]
     },
     "execution_count": 7,
     "metadata": {},
     "output_type": "execute_result"
    }
   ],
   "source": [
    "phi = spy.Function(r'\\phi')(r)\n",
    "\n",
    "left = (r * phi).diff().diff()\n",
    "\n",
    "# dydt = y.diff(t)\n",
    "expr = spy.Eq(left, -4 * spy.pi * G * rho * r)\n",
    "# expr\n",
    "# phi\n",
    "expr"
   ]
  },
  {
   "cell_type": "code",
   "execution_count": 8,
   "metadata": {},
   "outputs": [
    {
     "ename": "NotImplementedError",
     "evalue": "solve: Cannot solve 4*pi*G*\\rho_0*r*(r/r_0 + 1)**(-n) + r*Derivative(\\phi(r), (r, 2)) + 2*Derivative(\\phi(r), r)",
     "output_type": "error",
     "traceback": [
      "\u001b[0;31m---------------------------------------------------------------------------\u001b[0m",
      "\u001b[0;31mNotImplementedError\u001b[0m                       Traceback (most recent call last)",
      "\u001b[0;32m<ipython-input-8-82c3b83b1cfa>\u001b[0m in \u001b[0;36m<module>\u001b[0;34m()\u001b[0m\n\u001b[0;32m----> 1\u001b[0;31m \u001b[0mspy\u001b[0m\u001b[0;34m.\u001b[0m\u001b[0mdsolve\u001b[0m\u001b[0;34m(\u001b[0m\u001b[0mexpr\u001b[0m\u001b[0;34m)\u001b[0m\u001b[0;34m\u001b[0m\u001b[0;34m\u001b[0m\u001b[0m\n\u001b[0m",
      "\u001b[0;32m~/.local/lib/python3.6/site-packages/sympy/solvers/ode.py\u001b[0m in \u001b[0;36mdsolve\u001b[0;34m(eq, func, hint, simplify, ics, xi, eta, x0, n, **kwargs)\u001b[0m\n\u001b[1;32m    628\u001b[0m         hints = _desolve(eq, func=func,\n\u001b[1;32m    629\u001b[0m             \u001b[0mhint\u001b[0m\u001b[0;34m=\u001b[0m\u001b[0mhint\u001b[0m\u001b[0;34m,\u001b[0m \u001b[0msimplify\u001b[0m\u001b[0;34m=\u001b[0m\u001b[0;32mTrue\u001b[0m\u001b[0;34m,\u001b[0m \u001b[0mxi\u001b[0m\u001b[0;34m=\u001b[0m\u001b[0mxi\u001b[0m\u001b[0;34m,\u001b[0m \u001b[0meta\u001b[0m\u001b[0;34m=\u001b[0m\u001b[0meta\u001b[0m\u001b[0;34m,\u001b[0m \u001b[0mtype\u001b[0m\u001b[0;34m=\u001b[0m\u001b[0;34m'ode'\u001b[0m\u001b[0;34m,\u001b[0m \u001b[0mics\u001b[0m\u001b[0;34m=\u001b[0m\u001b[0mics\u001b[0m\u001b[0;34m,\u001b[0m\u001b[0;34m\u001b[0m\u001b[0;34m\u001b[0m\u001b[0m\n\u001b[0;32m--> 630\u001b[0;31m             x0=x0, n=n, **kwargs)\n\u001b[0m\u001b[1;32m    631\u001b[0m \u001b[0;34m\u001b[0m\u001b[0m\n\u001b[1;32m    632\u001b[0m         \u001b[0meq\u001b[0m \u001b[0;34m=\u001b[0m \u001b[0mhints\u001b[0m\u001b[0;34m.\u001b[0m\u001b[0mpop\u001b[0m\u001b[0;34m(\u001b[0m\u001b[0;34m'eq'\u001b[0m\u001b[0;34m,\u001b[0m \u001b[0meq\u001b[0m\u001b[0;34m)\u001b[0m\u001b[0;34m\u001b[0m\u001b[0;34m\u001b[0m\u001b[0m\n",
      "\u001b[0;32m~/.local/lib/python3.6/site-packages/sympy/solvers/deutils.py\u001b[0m in \u001b[0;36m_desolve\u001b[0;34m(eq, func, hint, ics, simplify, **kwargs)\u001b[0m\n\u001b[1;32m    233\u001b[0m             \u001b[0;32mraise\u001b[0m \u001b[0mValueError\u001b[0m\u001b[0;34m(\u001b[0m\u001b[0mstring\u001b[0m \u001b[0;34m+\u001b[0m \u001b[0mstr\u001b[0m\u001b[0;34m(\u001b[0m\u001b[0meq\u001b[0m\u001b[0;34m)\u001b[0m \u001b[0;34m+\u001b[0m \u001b[0;34m\" does not match hint \"\u001b[0m \u001b[0;34m+\u001b[0m \u001b[0mhint\u001b[0m\u001b[0;34m)\u001b[0m\u001b[0;34m\u001b[0m\u001b[0;34m\u001b[0m\u001b[0m\n\u001b[1;32m    234\u001b[0m         \u001b[0;32melse\u001b[0m\u001b[0;34m:\u001b[0m\u001b[0;34m\u001b[0m\u001b[0;34m\u001b[0m\u001b[0m\n\u001b[0;32m--> 235\u001b[0;31m             \u001b[0;32mraise\u001b[0m \u001b[0mNotImplementedError\u001b[0m\u001b[0;34m(\u001b[0m\u001b[0mdummy\u001b[0m \u001b[0;34m+\u001b[0m \u001b[0;34m\"solve\"\u001b[0m \u001b[0;34m+\u001b[0m \u001b[0;34m\": Cannot solve \"\u001b[0m \u001b[0;34m+\u001b[0m \u001b[0mstr\u001b[0m\u001b[0;34m(\u001b[0m\u001b[0meq\u001b[0m\u001b[0;34m)\u001b[0m\u001b[0;34m)\u001b[0m\u001b[0;34m\u001b[0m\u001b[0;34m\u001b[0m\u001b[0m\n\u001b[0m\u001b[1;32m    236\u001b[0m     \u001b[0;32mif\u001b[0m \u001b[0mhint\u001b[0m \u001b[0;34m==\u001b[0m \u001b[0;34m'default'\u001b[0m\u001b[0;34m:\u001b[0m\u001b[0;34m\u001b[0m\u001b[0;34m\u001b[0m\u001b[0m\n\u001b[1;32m    237\u001b[0m         return _desolve(eq, func, ics=ics, hint=hints['default'], simplify=simplify,\n",
      "\u001b[0;31mNotImplementedError\u001b[0m: solve: Cannot solve 4*pi*G*\\rho_0*r*(r/r_0 + 1)**(-n) + r*Derivative(\\phi(r), (r, 2)) + 2*Derivative(\\phi(r), r)"
     ]
    }
   ],
   "source": [
    "spy.dsolve(expr)"
   ]
  },
  {
   "cell_type": "code",
   "execution_count": null,
   "metadata": {},
   "outputs": [],
   "source": []
  }
 ],
 "metadata": {
  "kernelspec": {
   "display_name": "Python 3",
   "language": "python",
   "name": "python3"
  },
  "language_info": {
   "codemirror_mode": {
    "name": "ipython",
    "version": 3
   },
   "file_extension": ".py",
   "mimetype": "text/x-python",
   "name": "python",
   "nbconvert_exporter": "python",
   "pygments_lexer": "ipython3",
   "version": "3.6.7"
  }
 },
 "nbformat": 4,
 "nbformat_minor": 2
}
