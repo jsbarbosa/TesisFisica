{
 "cells": [
  {
   "cell_type": "code",
   "execution_count": 1,
   "metadata": {},
   "outputs": [],
   "source": [
    "import numpy as np\n",
    "import matplotlib.pyplot as plt\n",
    "import matplotlib.gridspec as gridspec"
   ]
  },
  {
   "cell_type": "code",
   "execution_count": 2,
   "metadata": {},
   "outputs": [],
   "source": [
    "import rebound"
   ]
  },
  {
   "cell_type": "code",
   "execution_count": 3,
   "metadata": {},
   "outputs": [],
   "source": [
    "def slicePlot(data, axes = None):\n",
    "    if axes == None:\n",
    "        gs = gridspec.GridSpec(2, 2)\n",
    "        ax1 = plt.subplot(gs[1, 0])\n",
    "        ax2 = plt.subplot(gs[0, 0])\n",
    "        ax3 = plt.subplot(gs[1, 1])\n",
    "    else:\n",
    "        ax1, ax2, ax3 = axes\n",
    "    \n",
    "    ax1.plot(data[:, 0], data[:, 1])\n",
    "    ax2.plot(data[:, 0], data[:, 2])\n",
    "    ax3.plot(data[:, 2], data[:, 1])\n",
    "\n",
    "    ax2.get_xaxis().set_visible(False)\n",
    "    ax3.get_yaxis().set_visible(False)\n",
    "    \n",
    "    ax1.set_xlabel('$x$')\n",
    "    ax1.set_ylabel('$y$')\n",
    "    ax2.set_ylabel('$z$')\n",
    "    ax3.set_xlabel('$z$')\n",
    "    \n",
    "    return (ax1, ax2, ax3)"
   ]
  },
  {
   "cell_type": "code",
   "execution_count": 4,
   "metadata": {},
   "outputs": [],
   "source": [
    "class Particle(object):\n",
    "    def __init__(self, simulation_particle):\n",
    "        self.simulation_particle = simulation_particle\n",
    "        \n",
    "        self.positions = []\n",
    "        self.speeds = []\n",
    "        \n",
    "    def savePosition(self):\n",
    "        self.positions += [self.simulation_particle.xyz]\n",
    "        \n",
    "    def saveSpeeds(self):\n",
    "        self.speeds += [self.simulation_particle.vxyz]\n",
    "        \n",
    "    def saveState(self):\n",
    "        self.savePosition()\n",
    "        self.saveSpeeds()\n",
    "        \n",
    "    def getPositions(self):\n",
    "        if type(self.positions) is list:\n",
    "            self.positions = np.array(self.positions)\n",
    "        return self.positions\n",
    "    \n",
    "    def getSpeeds(self):\n",
    "        if type(self.speeds) is list:\n",
    "            self.speeds = np.array(self.speeds)\n",
    "        return self.speeds"
   ]
  },
  {
   "cell_type": "markdown",
   "metadata": {},
   "source": [
    "# Single step"
   ]
  },
  {
   "cell_type": "code",
   "execution_count": 5,
   "metadata": {},
   "outputs": [
    {
     "name": "stdout",
     "output_type": "stream",
     "text": [
      "---------------------------------\n",
      "REBOUND version:     \t3.7.2\n",
      "REBOUND built on:    \tJan 22 2019 12:02:21\n",
      "Number of particles: \t2\n",
      "Selected integrator: \tias15\n",
      "Simulation time:     \t1.0000000000000000e+03\n",
      "Current timestep:    \t0.061350\n",
      "---------------------------------\n",
      "<rebound.Particle object, m=1.0 x=0.0008703814588972766 y=1.4131723990746112 z=0.0 vx=0.0009468263242318041 vy=0.002463041124869792 vz=0.0>\n",
      "<rebound.Particle object, m=0.001 x=-0.3703814588822417 y=1.7480933913150427 z=0.0 vx=-0.9468263242317857 vy=-1.0481206324038619 vz=0.0>\n",
      "---------------------------------\n"
     ]
    }
   ],
   "source": [
    "sim = rebound.Simulation()\n",
    "sim.add(m = 1.0)\n",
    "sim.add(m = 1.0e-3, a = 0.5)\n",
    "sim.integrate(1000.)\n",
    "sim.status()"
   ]
  },
  {
   "cell_type": "code",
   "execution_count": 6,
   "metadata": {},
   "outputs": [
    {
     "data": {
      "image/png": "[encoded data removed]",
      "text/plain": [
       "<Figure size 360x360 with 1 Axes>"
      ]
     },
     "metadata": {
      "needs_background": "light"
     },
     "output_type": "display_data"
    }
   ],
   "source": [
    "fig = rebound.OrbitPlot(sim, color = True, unitlabel = \"[AU]\", lim = 2.)"
   ]
  },
  {
   "cell_type": "markdown",
   "metadata": {},
   "source": [
    "# Multiple"
   ]
  },
  {
   "cell_type": "code",
   "execution_count": 7,
   "metadata": {},
   "outputs": [],
   "source": [
    "sim = rebound.Simulation()\n",
    "sim.add(m = 1)\n",
    "sim.add(m = 1.0e-3, x = 0, y = 1, z = 0, vx = 1.2)\n",
    "\n",
    "dt = 0.1\n",
    "particle = sim.particles[1]"
   ]
  },
  {
   "cell_type": "code",
   "execution_count": 8,
   "metadata": {},
   "outputs": [],
   "source": [
    "n_points = 1000\n",
    "\n",
    "times = np.zeros(n_points)\n",
    "positions = np.zeros((n_points, 3))\n",
    "speeds = np.zeros((n_points, 3))"
   ]
  },
  {
   "cell_type": "code",
   "execution_count": 9,
   "metadata": {},
   "outputs": [],
   "source": [
    "for i in range(n_points):\n",
    "    times[i] = times[i - 1] + dt\n",
    "    sim.integrate(times[i], exact_finish_time = 0) # integrate to the nearest timestep so WHFast's timestep stays constant\n",
    "    positions[i] = particle.xyz\n",
    "    speeds[i] = particle.vxyz"
   ]
  },
  {
   "cell_type": "code",
   "execution_count": 10,
   "metadata": {},
   "outputs": [
    {
     "data": {
      "image/png": "[encoded data removed]",
      "text/plain": [
       "<Figure size 432x288 with 3 Axes>"
      ]
     },
     "metadata": {
      "needs_background": "light"
     },
     "output_type": "display_data"
    }
   ],
   "source": [
    "axes = slicePlot(positions)"
   ]
  },
  {
   "cell_type": "markdown",
   "metadata": {},
   "source": [
    "# multiple particle"
   ]
  },
  {
   "cell_type": "code",
   "execution_count": 11,
   "metadata": {},
   "outputs": [],
   "source": [
    "sim = rebound.Simulation()\n",
    "sim.add(m = 1)\n",
    "sim.add(m = 1.0e-3, x = 0, y = 1, z = 0, vx = 1.)\n",
    "# sim.move_to_com() \n",
    "\n",
    "dt = 0.01\n",
    "particle0 = Particle(sim.particles[0])\n",
    "particle1 = Particle(sim.particles[1])\n",
    "\n",
    "times = np.arange(0, 70, dt)"
   ]
  },
  {
   "cell_type": "code",
   "execution_count": 12,
   "metadata": {},
   "outputs": [],
   "source": [
    "for time in times:\n",
    "    sim.integrate(time, exact_finish_time = 0) # integrate to the nearest timestep so WHFast's timestep stays constant\n",
    "    particle0.saveState()\n",
    "    particle1.saveState()"
   ]
  },
  {
   "cell_type": "code",
   "execution_count": 13,
   "metadata": {
    "scrolled": true
   },
   "outputs": [
    {
     "data": {
      "image/png": "[encoded data removed]",
      "text/plain": [
       "<Figure size 432x288 with 3 Axes>"
      ]
     },
     "metadata": {
      "needs_background": "light"
     },
     "output_type": "display_data"
    }
   ],
   "source": [
    "axes = slicePlot(particle0.getPositions())\n",
    "axes = slicePlot(particle1.getPositions(), axes)"
   ]
  },
  {
   "cell_type": "code",
   "execution_count": null,
   "metadata": {},
   "outputs": [],
   "source": []
  }
 ],
 "metadata": {
  "kernelspec": {
   "display_name": "tesisFisica",
   "language": "python",
   "name": "tesisfisica"
  },
  "language_info": {
   "codemirror_mode": {
    "name": "ipython",
    "version": 3
   },
   "file_extension": ".py",
   "mimetype": "text/x-python",
   "name": "python",
   "nbconvert_exporter": "python",
   "pygments_lexer": "ipython3",
   "version": "3.6.7"
  }
 },
 "nbformat": 4,
 "nbformat_minor": 2
}
