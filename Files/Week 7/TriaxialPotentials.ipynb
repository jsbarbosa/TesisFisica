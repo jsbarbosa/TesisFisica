{
 "cells": [
  {
   "cell_type": "code",
   "execution_count": 1,
   "metadata": {},
   "outputs": [],
   "source": [
    "import sys\n",
    "sys.path += [\"..\"]\n",
    "\n",
    "import smbh\n",
    "import numpy as np\n",
    "import matplotlib.pyplot as plt\n",
    "from mpl_toolkits.mplot3d import Axes3D"
   ]
  },
  {
   "cell_type": "code",
   "execution_count": 2,
   "metadata": {},
   "outputs": [],
   "source": [
    "import sympy as spy\n",
    "spy.init_printing()\n",
    "\n",
    "from IPython.display import display"
   ]
  },
  {
   "cell_type": "code",
   "execution_count": 3,
   "metadata": {},
   "outputs": [],
   "source": [
    "def getPotential(density):\n",
    "    global G, a_1, a_2, a_3, tau, m, x, y, z, m_int\n",
    "    k = spy.symbols(r'k', real = True, positive = True)\n",
    "    rho = density.subs(m, spy.sqrt(k))\n",
    "    psi = -spy.integrate(rho, k)\n",
    "    psi = psi.subs(k, m ** 2)\n",
    "    display(psi)\n",
    "    \n",
    "    Phi = - spy.pi * G * (a_2 * a_3 / a_1) * psi * 1 / spy.sqrt((tau + a_1 ** 2) * (tau + a_2 ** 2) * (tau + a_3 ** 2))\n",
    "    return Phi\n",
    "\n",
    "def gradient(Phi):\n",
    "    global a_1, a_2, a_3, x, y, z, m, m_int, phi_x, phi_y, phi_z, phi_1, phi_2, phi_3\n",
    "    phi = Phi.subs(m, m_int)\n",
    "    dim = [x, y, z]\n",
    "    phis = [phi_x, phi_y, phi_z]\n",
    "    phis_ = [phi_1, phi_2, phi_3]\n",
    "    \n",
    "    r = []\n",
    "    for (x_i, phi_x_i, phi_i) in zip(dim, phis, phis_):\n",
    "        t = phi.diff(x_i).subs(m_int / a_1, m / a_1).subs(m_int ** 2, m ** 2).simplify()\n",
    "        t = (t / phi_x_i).factor()\n",
    "        r.append(t)\n",
    "        \n",
    "    if r[0] == r[1]:\n",
    "        factor = r[0]\n",
    "        matrix = spy.Matrix(phis_)\n",
    "    else: \n",
    "        factor = 1\n",
    "        matrix = spy.Matrix(r)\n",
    "    return factor, matrix\n",
    "\n",
    "def toSpherical(phi):\n",
    "    global a_1, a_2, a_3, x, y, z, r\n",
    "    subs = [(a_1, 1), (a_2, 1), (a_3, 1), (x * x + y * y + z * z, r * r)]\n",
    "    return phi.subs(subs)\n",
    "\n",
    "def changeVariables(func):\n",
    "    global tau\n",
    "    return func.subs(tau, omega / (1 - omega)) / (1 - omega) ** 2\n",
    "\n",
    "def gradToLatex(grad):\n",
    "    new_m = r'm(\\vec{x}, \\tau)'\n",
    "    latex = [spy.latex(g).replace('m ', new_m).replace(r'm\\right)', new_m + r'\\right)') for g in grad]\n",
    "    txt = r\"\"\"\\nabla \\Phi = \n",
    "        \\left(\\begin{array}{l}\n",
    "        %s, \\\\\n",
    "        %s, \\\\\n",
    "        %s\n",
    "        \\end{array}\\right)\"\"\" % tuple(latex)\n",
    "    print(txt)"
   ]
  },
  {
   "cell_type": "markdown",
   "metadata": {},
   "source": [
    "# Potentials"
   ]
  },
  {
   "cell_type": "code",
   "execution_count": 4,
   "metadata": {},
   "outputs": [],
   "source": [
    "G, tau, omega, gamma = spy.symbols(r'G \\tau \\omega \\gamma', real = True, positive = True)\n",
    "r, m, x, y, z, a_1, a_2, a_3, phi_1, phi_2, phi_3 = spy.symbols(\"r m x y z a_1 a_2 a_3 \\phi_1 \\phi_2 \\phi_3\",\n",
    "                                                                real = True, positive = True)\n",
    "\n",
    "m_int = [i ** 2 / (a ** 2 + tau) for (i, a) in zip([x, y, z], [a_1, a_2, a_3])]\n",
    "m_int = spy.sqrt(a_1 ** 2 * sum(m_int))\n",
    "\n",
    "phi_x = x / (spy.sqrt(tau + a_1 ** 2) ** 3 * spy.sqrt(tau + a_2 ** 2) * spy.sqrt(tau + a_3 ** 2))\n",
    "phi_y = y / (spy.sqrt(tau + a_2 ** 2) ** 3 * spy.sqrt(tau + a_1 ** 2) * spy.sqrt(tau + a_3 ** 2))\n",
    "phi_z = z / (spy.sqrt(tau + a_3 ** 2) ** 3 * spy.sqrt(tau + a_1 ** 2) * spy.sqrt(tau + a_2 ** 2))"
   ]
  },
  {
   "cell_type": "code",
   "execution_count": 5,
   "metadata": {},
   "outputs": [
    {
     "data": {
      "image/png": "[encoded data removed]",
      "text/latex": [
       "$$\\frac{\\tau^{\\gamma}}{\\tau^{\\gamma} + 1} = \\omega$$"
      ],
      "text/plain": [
       "      \\gamma           \n",
       "  \\tau                 \n",
       "────────────── = \\omega\n",
       "    \\gamma             \n",
       "\\tau       + 1         "
      ]
     },
     "execution_count": 5,
     "metadata": {},
     "output_type": "execute_result"
    }
   ],
   "source": [
    "t = tau ** gamma / (1 + tau ** gamma)\n",
    "eq = spy.Eq(t, omega)\n",
    "eq"
   ]
  },
  {
   "cell_type": "code",
   "execution_count": 6,
   "metadata": {},
   "outputs": [
    {
     "data": {
      "image/png": "[encoded data removed]",
      "text/latex": [
       "$$\\left(- \\frac{\\omega}{\\omega - 1}\\right)^{\\frac{1}{\\gamma}}$$"
      ],
      "text/plain": [
       "        ____________\n",
       "       ╱  -\\omega   \n",
       "\\gamma╱  ────────── \n",
       "    ╲╱   \\omega - 1 "
      ]
     },
     "metadata": {},
     "output_type": "display_data"
    },
    {
     "name": "stdout",
     "output_type": "stream",
     "text": [
      "\\left(- \\frac{\\omega}{\\omega - 1}\\right)^{\\frac{1}{\\gamma}}\n"
     ]
    }
   ],
   "source": [
    "s0 = spy.solve(eq, tau)[0]\n",
    "display(s0)\n",
    "a = spy.latex(s0)\n",
    "print(a)"
   ]
  },
  {
   "cell_type": "code",
   "execution_count": 7,
   "metadata": {},
   "outputs": [
    {
     "data": {
      "image/png": "[encoded data removed]",
      "text/latex": [
       "$$\\frac{\\left(- \\frac{\\omega}{\\omega - 1}\\right)^{\\frac{1}{\\gamma}}}{\\gamma \\omega \\left(- \\omega + 1\\right)}$$"
      ],
      "text/plain": [
       "            ____________   \n",
       "           ╱  -\\omega      \n",
       "    \\gamma╱  ──────────    \n",
       "        ╲╱   \\omega - 1    \n",
       "───────────────────────────\n",
       "\\gamma⋅\\omega⋅(-\\omega + 1)"
      ]
     },
     "metadata": {},
     "output_type": "display_data"
    },
    {
     "name": "stdout",
     "output_type": "stream",
     "text": [
      "\\frac{\\left(- \\frac{\\omega}{\\omega - 1}\\right)^{\\frac{1}{\\gamma}}}{\\gamma \\omega \\left(- \\omega + 1\\right)}\n"
     ]
    }
   ],
   "source": [
    "diff = s0.diff(omega).simplify()\n",
    "display(diff)\n",
    "a = spy.latex(diff)\n",
    "print(a)"
   ]
  },
  {
   "cell_type": "markdown",
   "metadata": {},
   "source": [
    "# NFW"
   ]
  },
  {
   "cell_type": "code",
   "execution_count": 8,
   "metadata": {},
   "outputs": [],
   "source": [
    "rho_0, R_s = spy.symbols(r\"\\rho_0 R_s\", real = True, positive = True)"
   ]
  },
  {
   "cell_type": "code",
   "execution_count": 9,
   "metadata": {},
   "outputs": [
    {
     "data": {
      "image/png": "[encoded data removed]",
      "text/latex": [
       "$$\\frac{R_{s} \\rho_0}{m \\left(1 + \\frac{m}{R_{s}}\\right)^{2}}$$"
      ],
      "text/plain": [
       "  Rₛ⋅\\rho₀ \n",
       "───────────\n",
       "          2\n",
       "  ⎛    m ⎞ \n",
       "m⋅⎜1 + ──⎟ \n",
       "  ⎝    Rₛ⎠ "
      ]
     },
     "execution_count": 9,
     "metadata": {},
     "output_type": "execute_result"
    }
   ],
   "source": [
    "NFW = rho_0 / ((m / R_s) * (1 + m / R_s) ** 2)\n",
    "NFW"
   ]
  },
  {
   "cell_type": "code",
   "execution_count": 10,
   "metadata": {},
   "outputs": [
    {
     "data": {
      "image/png": "[encoded data removed]",
      "text/latex": [
       "$$\\frac{2 R_{s}^{3} \\rho_0}{R_{s} + m}$$"
      ],
      "text/plain": [
       "    3      \n",
       "2⋅Rₛ ⋅\\rho₀\n",
       "───────────\n",
       "   Rₛ + m  "
      ]
     },
     "metadata": {},
     "output_type": "display_data"
    },
    {
     "data": {
      "image/png": "[encoded data removed]",
      "text/latex": [
       "$$- \\frac{2 \\pi G R_{s}^{3} \\rho_0 a_{2} a_{3}}{a_{1} \\left(R_{s} + m\\right) \\sqrt{\\tau + a_{1}^{2}} \\sqrt{\\tau + a_{2}^{2}} \\sqrt{\\tau + a_{3}^{2}}}$$"
      ],
      "text/plain": [
       "                           3                               \n",
       "                  -2⋅π⋅G⋅Rₛ ⋅\\rho₀⋅a₂⋅a₃                   \n",
       "───────────────────────────────────────────────────────────\n",
       "               ____________    ____________    ____________\n",
       "              ╱          2    ╱          2    ╱          2 \n",
       "a₁⋅(Rₛ + m)⋅╲╱  \\tau + a₁  ⋅╲╱  \\tau + a₂  ⋅╲╱  \\tau + a₃  "
      ]
     },
     "execution_count": 10,
     "metadata": {},
     "output_type": "execute_result"
    }
   ],
   "source": [
    "Phi = getPotential(NFW)\n",
    "Phi"
   ]
  },
  {
   "cell_type": "code",
   "execution_count": 11,
   "metadata": {},
   "outputs": [
    {
     "data": {
      "image/png": "[encoded data removed]",
      "text/latex": [
       "$$\\left ( \\frac{2 \\pi G R_{s}^{3} \\rho_0 a_{1} a_{2} a_{3}}{m \\left(R_{s} + m\\right)^{2}}, \\quad \\left[\\begin{matrix}\\phi_1\\\\\\phi_2\\\\\\phi_3\\end{matrix}\\right]\\right )$$"
      ],
      "text/plain": [
       "⎛        3                 ⎡\\phi₁⎤⎞\n",
       "⎜2⋅π⋅G⋅Rₛ ⋅\\rho₀⋅a₁⋅a₂⋅a₃  ⎢     ⎥⎟\n",
       "⎜────────────────────────, ⎢\\phi₂⎥⎟\n",
       "⎜                2         ⎢     ⎥⎟\n",
       "⎝      m⋅(Rₛ + m)          ⎣\\phi₃⎦⎠"
      ]
     },
     "execution_count": 11,
     "metadata": {},
     "output_type": "execute_result"
    }
   ],
   "source": [
    "factor, matrix = gradient(Phi)\n",
    "factor, matrix"
   ]
  },
  {
   "cell_type": "markdown",
   "metadata": {},
   "source": [
    "# Hernquist"
   ]
  },
  {
   "cell_type": "code",
   "execution_count": 12,
   "metadata": {},
   "outputs": [
    {
     "data": {
      "image/png": "[encoded data removed]",
      "text/latex": [
       "$$\\frac{M_{s} \\mathcal{R_s}}{2 \\pi m \\left(\\mathcal{R_s} + m\\right)^{3}}$$"
      ],
      "text/plain": [
       "     Mₛ⋅\\mathcal{R_s}     \n",
       "──────────────────────────\n",
       "                         3\n",
       "2⋅π⋅m⋅(\\mathcal{R_s} + m) "
      ]
     },
     "execution_count": 12,
     "metadata": {},
     "output_type": "execute_result"
    }
   ],
   "source": [
    "M_s, r_s = spy.symbols(r\"M_s \\mathcal{R_s}\", real = True, positive = True)\n",
    "Hernquist = M_s * r_s/ (2 * spy.pi * m * (m + r_s) ** 3)\n",
    "Hernquist"
   ]
  },
  {
   "cell_type": "code",
   "execution_count": 13,
   "metadata": {},
   "outputs": [
    {
     "data": {
      "image/png": "[encoded data removed]",
      "text/latex": [
       "$$\\frac{M_{s} \\mathcal{R_s}}{2 \\pi \\left(\\mathcal{R_s}^{2} + 2 \\mathcal{R_s} m + m^{2}\\right)}$$"
      ],
      "text/plain": [
       "               Mₛ⋅\\mathcal{R_s}              \n",
       "─────────────────────────────────────────────\n",
       "    ⎛             2                        2⎞\n",
       "2⋅π⋅⎝\\mathcal{R_s}  + 2⋅\\mathcal{R_s}⋅m + m ⎠"
      ]
     },
     "metadata": {},
     "output_type": "display_data"
    },
    {
     "data": {
      "image/png": "[encoded data removed]",
      "text/latex": [
       "$$- \\frac{G M_{s} \\mathcal{R_s} a_{2} a_{3}}{2 a_{1} \\sqrt{\\tau + a_{1}^{2}} \\sqrt{\\tau + a_{2}^{2}} \\sqrt{\\tau + a_{3}^{2}} \\left(\\mathcal{R_s}^{2} + 2 \\mathcal{R_s} m + m^{2}\\right)}$$"
      ],
      "text/plain": [
       "                                  -G⋅Mₛ⋅\\mathcal{R_s}⋅a₂⋅a₃                   \n",
       "──────────────────────────────────────────────────────────────────────────────\n",
       "        ____________    ____________    ____________                          \n",
       "       ╱          2    ╱          2    ╱          2  ⎛             2          \n",
       "2⋅a₁⋅╲╱  \\tau + a₁  ⋅╲╱  \\tau + a₂  ⋅╲╱  \\tau + a₃  ⋅⎝\\mathcal{R_s}  + 2⋅\\math\n",
       "\n",
       "                \n",
       "────────────────\n",
       "                \n",
       "              2⎞\n",
       "cal{R_s}⋅m + m ⎠"
      ]
     },
     "execution_count": 13,
     "metadata": {},
     "output_type": "execute_result"
    }
   ],
   "source": [
    "Phi = getPotential(Hernquist)\n",
    "Phi"
   ]
  },
  {
   "cell_type": "code",
   "execution_count": 15,
   "metadata": {},
   "outputs": [
    {
     "data": {
      "image/png": "[encoded data removed]",
      "text/latex": [
       "$$\\left ( \\frac{G M_{s} \\mathcal{R_s} a_{1} a_{2} a_{3}}{m \\left(\\mathcal{R_s} + m\\right)^{3}}, \\quad \\left[\\begin{matrix}\\phi_1\\\\\\phi_2\\\\\\phi_3\\end{matrix}\\right]\\right )$$"
      ],
      "text/plain": [
       "⎛                             ⎡\\phi₁⎤⎞\n",
       "⎜G⋅Mₛ⋅\\mathcal{R_s}⋅a₁⋅a₂⋅a₃  ⎢     ⎥⎟\n",
       "⎜───────────────────────────, ⎢\\phi₂⎥⎟\n",
       "⎜                        3    ⎢     ⎥⎟\n",
       "⎝   m⋅(\\mathcal{R_s} + m)     ⎣\\phi₃⎦⎠"
      ]
     },
     "execution_count": 15,
     "metadata": {},
     "output_type": "execute_result"
    }
   ],
   "source": [
    "factor, matrix = gradient(Phi)\n",
    "factor, matrix"
   ]
  },
  {
   "cell_type": "markdown",
   "metadata": {},
   "source": [
    "# Power law"
   ]
  },
  {
   "cell_type": "code",
   "execution_count": 12,
   "metadata": {},
   "outputs": [
    {
     "data": {
      "image/png": "[encoded data removed]",
      "text/latex": [
       "$$\\left ( \\rho_0, \\quad \\frac{\\rho_0 r_{0}^{2.2}}{m^{2.2}}\\right )$$"
      ],
      "text/plain": [
       "⎛              -2.2   2.2⎞\n",
       "⎝\\rho₀, \\rho₀⋅m    ⋅r₀   ⎠"
      ]
     },
     "execution_count": 12,
     "metadata": {},
     "output_type": "execute_result"
    }
   ],
   "source": [
    "r_0 = spy.symbols(\"r_0\", real = True, positive = True)\n",
    "n = spy.symbols(\"n\", real = True, positive = False)\n",
    "\n",
    "Gas1 = rho_0\n",
    "Gas2 = rho_0 * (r_0 / m) ** (2.2)\n",
    "\n",
    "Gas1, Gas2"
   ]
  },
  {
   "cell_type": "code",
   "execution_count": 13,
   "metadata": {},
   "outputs": [
    {
     "data": {
      "image/png": "[encoded data removed]",
      "text/latex": [
       "$$- \\rho_0 m^{2}$$"
      ],
      "text/plain": [
       "        2\n",
       "-\\rho₀⋅m "
      ]
     },
     "metadata": {},
     "output_type": "display_data"
    },
    {
     "data": {
      "image/png": "[encoded data removed]",
      "text/latex": [
       "$$\\frac{\\pi G \\rho_0 a_{2} a_{3} \\left(m^{2} - r_{0}^{2}\\right)}{a_{1} \\sqrt{\\tau + a_{1}^{2}} \\sqrt{\\tau + a_{2}^{2}} \\sqrt{\\tau + a_{3}^{2}}}$$"
      ],
      "text/plain": [
       "                            ⎛ 2     2⎞            \n",
       "            π⋅G⋅\\rho₀⋅a₂⋅a₃⋅⎝m  - r₀ ⎠            \n",
       "──────────────────────────────────────────────────\n",
       "      ____________    ____________    ____________\n",
       "     ╱          2    ╱          2    ╱          2 \n",
       "a₁⋅╲╱  \\tau + a₁  ⋅╲╱  \\tau + a₂  ⋅╲╱  \\tau + a₃  "
      ]
     },
     "execution_count": 13,
     "metadata": {},
     "output_type": "execute_result"
    }
   ],
   "source": [
    "Phi = getPotential(Gas1).subs(m ** 2, m**2 - r_0**2)\n",
    "Phi"
   ]
  },
  {
   "cell_type": "code",
   "execution_count": 14,
   "metadata": {},
   "outputs": [
    {
     "data": {
      "image/png": "[encoded data removed]",
      "text/latex": [
       "$$\\left ( 2 \\pi G \\rho_0 a_{1} a_{2} a_{3}, \\quad \\left[\\begin{matrix}\\phi_1\\\\\\phi_2\\\\\\phi_3\\end{matrix}\\right]\\right )$$"
      ],
      "text/plain": [
       "⎛                      ⎡\\phi₁⎤⎞\n",
       "⎜                      ⎢     ⎥⎟\n",
       "⎜2⋅π⋅G⋅\\rho₀⋅a₁⋅a₂⋅a₃, ⎢\\phi₂⎥⎟\n",
       "⎜                      ⎢     ⎥⎟\n",
       "⎝                      ⎣\\phi₃⎦⎠"
      ]
     },
     "execution_count": 14,
     "metadata": {},
     "output_type": "execute_result"
    }
   ],
   "source": [
    "factor, matrix = gradient(Phi)\n",
    "factor, matrix"
   ]
  },
  {
   "cell_type": "code",
   "execution_count": 15,
   "metadata": {},
   "outputs": [
    {
     "data": {
      "image/png": "[encoded data removed]",
      "text/latex": [
       "$$\\frac{2 \\pi G \\rho_0 a_{2} a_{3} m^{n + 2} r_{0}^{- n}}{a_{1} \\sqrt{\\tau + a_{1}^{2}} \\sqrt{\\tau + a_{2}^{2}} \\sqrt{\\tau + a_{3}^{2}} \\left(n + 2\\right)}$$"
      ],
      "text/plain": [
       "                                 n + 2   -n               \n",
       "              2⋅π⋅G⋅\\rho₀⋅a₂⋅a₃⋅m     ⋅r₀                 \n",
       "──────────────────────────────────────────────────────────\n",
       "      ____________    ____________    ____________        \n",
       "     ╱          2    ╱          2    ╱          2         \n",
       "a₁⋅╲╱  \\tau + a₁  ⋅╲╱  \\tau + a₂  ⋅╲╱  \\tau + a₃  ⋅(n + 2)"
      ]
     },
     "execution_count": 15,
     "metadata": {},
     "output_type": "execute_result"
    }
   ],
   "source": [
    "Phi = - 2 * rho_0 * r_0 ** -n * m ** (n + 2) / (n + 2)\n",
    "Phi *= 1 / spy.sqrt((tau + a_1 ** 2) * (tau + a_2 ** 2) * (tau + a_3 ** 2))\n",
    "Phi *= - spy.pi * G * a_2 * a_3 / a_1\n",
    "Phi"
   ]
  },
  {
   "cell_type": "code",
   "execution_count": 16,
   "metadata": {},
   "outputs": [
    {
     "data": {
      "image/png": "[encoded data removed]",
      "text/latex": [
       "$$\\left ( 2 \\pi G \\rho_0 a_{1} a_{2} a_{3} m^{n} r_{0}^{- n}, \\quad \\left[\\begin{matrix}\\phi_1\\\\\\phi_2\\\\\\phi_3\\end{matrix}\\right]\\right )$$"
      ],
      "text/plain": [
       "⎛                              ⎡\\phi₁⎤⎞\n",
       "⎜                      n   -n  ⎢     ⎥⎟\n",
       "⎜2⋅π⋅G⋅\\rho₀⋅a₁⋅a₂⋅a₃⋅m ⋅r₀  , ⎢\\phi₂⎥⎟\n",
       "⎜                              ⎢     ⎥⎟\n",
       "⎝                              ⎣\\phi₃⎦⎠"
      ]
     },
     "execution_count": 16,
     "metadata": {},
     "output_type": "execute_result"
    }
   ],
   "source": [
    "factor, matrix = gradient(Phi)\n",
    "factor, matrix"
   ]
  },
  {
   "cell_type": "markdown",
   "metadata": {},
   "source": [
    "# Plots"
   ]
  },
  {
   "cell_type": "code",
   "execution_count": null,
   "metadata": {},
   "outputs": [],
   "source": [
    "fig, ax, cbar = smbh.slice3d(1e-2, 15, smbh.darkMatterDensity, points = 50)\n",
    "\n",
    "fig.savefig(\"symmetric.png\", dpi = 300)\n",
    "plt.show()"
   ]
  },
  {
   "cell_type": "code",
   "execution_count": null,
   "metadata": {},
   "outputs": [],
   "source": [
    "smbh.setTriaxalCoeffs(1, 0.5, 0.3)\n",
    "\n",
    "fig, ax, cbar = smbh.slice3d(1e-2, 15, smbh.darkMatterDensityTriaxial, symmetric = False, points = 50)\n",
    "\n",
    "fig.savefig(\"triaxial.png\", dpi = 300)\n",
    "plt.show()"
   ]
  },
  {
   "cell_type": "code",
   "execution_count": null,
   "metadata": {},
   "outputs": [],
   "source": [
    "fig = plt.figure()\n",
    "ax = fig.gca(projection='3d')\n",
    "\n",
    "m = 1\n",
    "\n",
    "# Make data.\n",
    "phi = np.linspace(0, 2 * np.pi)\n",
    "theta = np.linspace(0, np.pi)\n",
    "PHI, THETA = np.meshgrid(phi, theta)\n",
    "\n",
    "X = m * np.sin(THETA) * np.cos(PHI)\n",
    "Y = m * np.sin(THETA) * np.sin(PHI) / 0.99\n",
    "Z = m * np.cos(THETA) / 0.95\n",
    "\n",
    "# Plot the surface.\n",
    "surf = ax.plot_wireframe(X, Y, Z, linewidth = 0.5)\n",
    "\n",
    "ax.view_init(30, 45)\n",
    "\n",
    "c = 1.5\n",
    "ax.plot([0, c * m], [0, 0], [0, 0], c = \"k\", lw = 1)\n",
    "ax.plot([0, 0], [0, c * m], [0, 0], c = \"k\", lw = 1)\n",
    "ax.plot([0, 0], [0, 0], [0, c * m], c = \"k\", lw = 1)\n",
    "\n",
    "fs = 15\n",
    "ax.text(m * c, 0, 0.1 * m, \"$\\hat{i}$\", fontsize = fs)\n",
    "ax.text(0, m * c, 0.1 * m, \"$\\hat{j}$\", fontsize = fs)\n",
    "ax.text(0, 0.1 * m, m * c, \"$\\hat{k}$\", fontsize = fs)\n",
    "# ax.axis('equal')\n",
    "ax.axis('off')\n",
    "\n",
    "ax.set_xlim(-m * 1.1, m * 1.1)\n",
    "ax.set_ylim(-m * 1.1, m * 1.1)\n",
    "ax.set_zlim(-m * 1.1, m * 1.1)\n",
    "\n",
    "fig.tight_layout()\n",
    "\n",
    "fig.savefig(\"ellipsoid.png\", dpi = 300)\n",
    "\n",
    "plt.show()"
   ]
  },
  {
   "cell_type": "markdown",
   "metadata": {},
   "source": [
    "# Gauss - Legendre - Laguerre"
   ]
  },
  {
   "cell_type": "code",
   "execution_count": 17,
   "metadata": {},
   "outputs": [],
   "source": [
    "def legendre(expression, degree):\n",
    "    global omega\n",
    "    roots, weights = np.polynomial.legendre.leggauss(degree)\n",
    "    le = np.array([expression.subs(omega, 0.5 * x_i + 0.5).evalf() for x_i in roots])\n",
    "    return 0.5 * sum(le * weights)\n",
    "\n",
    "def laguerre(expression, degree):\n",
    "    global tau\n",
    "    roots, weights = np.polynomial.laguerre.laggauss(degree)\n",
    "    la = np.array([expression.subs(tau, x_i).evalf() for x_i in roots])\n",
    "    return sum(la * weights)"
   ]
  },
  {
   "cell_type": "code",
   "execution_count": 18,
   "metadata": {},
   "outputs": [],
   "source": [
    "pos = [1, 0, 0]\n",
    "axis = [1, 1, 1]\n",
    "smbh.setTriaxalCoeffs(* axis)\n",
    "\n",
    "const = [(x, pos[0]), (y, pos[1]), (z, pos[2]),\n",
    "         (a_1, axis[0]), (a_2, axis[1]), (a_3, axis[2]),\n",
    "        (R_s, 0.172493), (rho_0, 16167.089408), (G, smbh.G), (r_0, 1e-3), (n, -2.2)]"
   ]
  },
  {
   "cell_type": "code",
   "execution_count": 19,
   "metadata": {},
   "outputs": [
    {
     "data": {
      "image/png": "[encoded data removed]",
      "text/latex": [
       "$$93.47743600404692$$"
      ],
      "text/plain": [
       "93.47743600404692"
      ]
     },
     "execution_count": 19,
     "metadata": {},
     "output_type": "execute_result"
    }
   ],
   "source": [
    "r = sum([i ** 2 for i in pos]) ** 0.5\n",
    "# p = smbh.G * smbh.darkMatterMass(r) / r ** 2\n",
    "p = smbh.G * smbh.gasMass(r) / r ** 2\n",
    "p"
   ]
  },
  {
   "cell_type": "code",
   "execution_count": 40,
   "metadata": {},
   "outputs": [
    {
     "data": {
      "image/png": "[encoded data removed]",
      "text/latex": [
       "$$\\frac{0.00364951357711639 \\pi e^{\\tau}}{\\left(\\tau + 1\\right)^{1.4}}$$"
      ],
      "text/plain": [
       "                                -1.4  \\tau\n",
       "0.00364951357711639⋅π⋅(\\tau + 1)    ⋅ℯ    "
      ]
     },
     "execution_count": 40,
     "metadata": {},
     "output_type": "execute_result"
    }
   ],
   "source": [
    "f1 = (factor * matrix[0]).subs(((m, m_int), (phi_1, phi_x))) * spy.exp(tau)\n",
    "f1 = f1.subs(const)\n",
    "f1"
   ]
  },
  {
   "cell_type": "code",
   "execution_count": 41,
   "metadata": {},
   "outputs": [
    {
     "data": {
      "image/png": "[encoded data removed]",
      "text/latex": [
       "$$\\frac{0.00364951357711639 \\pi \\left(- \\frac{\\omega}{\\omega - 1}\\right)^{\\frac{1}{\\gamma}}}{\\gamma \\omega \\left(- \\omega + 1\\right) \\left(\\left(- \\frac{\\omega}{\\omega - 1}\\right)^{\\frac{1}{\\gamma}} + 1\\right)^{\\frac{5}{2}} \\left(\\frac{1}{\\left(- \\frac{\\omega}{\\omega - 1}\\right)^{\\frac{1}{\\gamma}} + 1}\\right)^{1.1}}$$"
      ],
      "text/plain": [
       "                              ____________                           -1.1\n",
       "                             ╱  -\\omega    ⎛           1            ⎞    \n",
       "0.00364951357711639⋅π⋅\\gamma╱  ────────── ⋅⎜────────────────────────⎟    \n",
       "                          ╲╱   \\omega - 1  ⎜        ____________    ⎟    \n",
       "                                           ⎜       ╱  -\\omega       ⎟    \n",
       "                                           ⎜\\gamma╱  ──────────  + 1⎟    \n",
       "                                           ⎝    ╲╱   \\omega - 1     ⎠    \n",
       "─────────────────────────────────────────────────────────────────────────\n",
       "                                                              5/2        \n",
       "                                    ⎛        ____________    ⎞           \n",
       "                                    ⎜       ╱  -\\omega       ⎟           \n",
       "        \\gamma⋅\\omega⋅(-\\omega + 1)⋅⎜\\gamma╱  ──────────  + 1⎟           \n",
       "                                    ⎝    ╲╱   \\omega - 1     ⎠           "
      ]
     },
     "execution_count": 41,
     "metadata": {},
     "output_type": "execute_result"
    }
   ],
   "source": [
    "f1_ = (factor * matrix[0]).subs(((m, m_int), (phi_1, phi_x)))\n",
    "f1_ = (f1_.subs(tau, s0) * diff).subs(const)\n",
    "f1_"
   ]
  },
  {
   "cell_type": "code",
   "execution_count": 42,
   "metadata": {},
   "outputs": [],
   "source": [
    "errors_le = []\n",
    "gammas = np.logspace(-3, 2, 500)\n",
    "\n",
    "for i in gammas:\n",
    "    f = f1_.subs(gamma, i)\n",
    "    le = legendre(f, 50)\n",
    "   \n",
    "    e_le = 100 * abs(le - p) / p\n",
    "    \n",
    "    errors_le.append(e_le)"
   ]
  },
  {
   "cell_type": "code",
   "execution_count": 43,
   "metadata": {},
   "outputs": [
    {
     "data": {
      "image/png": "[encoded data removed]",
      "text/plain": [
       "<Figure size 360x324 with 1 Axes>"
      ]
     },
     "metadata": {
      "needs_background": "light"
     },
     "output_type": "display_data"
    }
   ],
   "source": [
    "fig, ax = plt.subplots(figsize = (5, 4.5))\n",
    "ax.plot(gammas, errors_le, label = 'Legendre')\n",
    "\n",
    "ax.set_xscale('log')\n",
    "ax.set_yscale('log')\n",
    "\n",
    "ax.set_xlabel(r'$\\gamma$')\n",
    "ax.set_ylabel('Error (%)')\n",
    "\n",
    "ax.grid()\n",
    "\n",
    "# fig.savefig(\"error_gamma.png\", dpi = 300)\n",
    "plt.show()"
   ]
  },
  {
   "cell_type": "code",
   "execution_count": null,
   "metadata": {},
   "outputs": [],
   "source": [
    "errors_le_ = []\n",
    "errors_la = []\n",
    "\n",
    "f_ = f1_.subs(gamma, 0.2)\n",
    "for i in range(1, 60):\n",
    "    le = legendre(f_, i)\n",
    "    la = laguerre(f1, i)\n",
    "   \n",
    "    e_la = 100 * abs(la - p) / p\n",
    "    e_le = 100 * abs(le - p) / p\n",
    "    \n",
    "    errors_le_.append(e_le)\n",
    "    errors_la.append(e_la)"
   ]
  },
  {
   "cell_type": "code",
   "execution_count": null,
   "metadata": {},
   "outputs": [],
   "source": [
    "fig, ax = plt.subplots(figsize = (5, 4.5))\n",
    "\n",
    "ax.plot(errors_le_, label = 'Legendre')\n",
    "ax.plot(errors_la, label = 'Laguerre')\n",
    "\n",
    "ax.legend()\n",
    "ax.grid()\n",
    "\n",
    "ax.set_yscale('log')\n",
    "\n",
    "ax.set_xlabel('Degree')\n",
    "ax.set_ylabel('Error (%)')\n",
    "\n",
    "fig.savefig(\"error_legendre_laguerre.png\", dpi = 300)\n",
    "\n",
    "plt.show()"
   ]
  },
  {
   "cell_type": "code",
   "execution_count": null,
   "metadata": {},
   "outputs": [],
   "source": [
    "legauss = np.polynomial.legendre.leggauss(50)\n",
    "legauss"
   ]
  },
  {
   "cell_type": "code",
   "execution_count": null,
   "metadata": {},
   "outputs": [],
   "source": []
  }
 ],
 "metadata": {
  "kernelspec": {
   "display_name": "tesisFisica",
   "language": "python",
   "name": "tesisfisica"
  },
  "language_info": {
   "codemirror_mode": {
    "name": "ipython",
    "version": 3
   },
   "file_extension": ".py",
   "mimetype": "text/x-python",
   "name": "python",
   "nbconvert_exporter": "python",
   "pygments_lexer": "ipython3",
   "version": "3.6.7"
  }
 },
 "nbformat": 4,
 "nbformat_minor": 2
}
