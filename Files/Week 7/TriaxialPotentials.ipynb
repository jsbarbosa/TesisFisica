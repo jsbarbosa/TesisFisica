{
 "cells": [
  {
   "cell_type": "code",
   "execution_count": 1,
   "metadata": {},
   "outputs": [],
   "source": [
    "import sys\n",
    "sys.path += [\"..\"]\n",
    "\n",
    "import smbh\n",
    "import numpy as np\n",
    "import matplotlib.pyplot as plt"
   ]
  },
  {
   "cell_type": "code",
   "execution_count": 2,
   "metadata": {},
   "outputs": [],
   "source": [
    "import sympy as spy\n",
    "spy.init_printing()"
   ]
  },
  {
   "cell_type": "code",
   "execution_count": 3,
   "metadata": {},
   "outputs": [],
   "source": [
    "def getPotential(density):\n",
    "    global G, a_1, a_2, a_3, tau, m, x, y, z, m_int\n",
    "    k = spy.symbols(r'k', real = True, positive = True)\n",
    "    rho = density.subs(m, spy.sqrt(k))\n",
    "    psi = -spy.integrate(rho, k)\n",
    "    psi = psi.subs(k, m ** 2)\n",
    "    \n",
    "    Phi = - spy.pi * G * (a_2 * a_3 / a_1) * psi * 1 / spy.sqrt((tau + a_1 ** 2) * (tau + a_2 ** 2) * (tau + a_3 ** 2))\n",
    "    return Phi\n",
    "\n",
    "def gradient(Phi):\n",
    "    global x, y, z, m, m_int\n",
    "    phi = Phi.subs(m, m_int)\n",
    "    dim = [x, y, z]\n",
    "    return [phi.diff(i).subs(m_int / a_1, m).subs((m_int / a_1) ** 2, m ** 2) for i in dim]\n",
    "\n",
    "def toSpherical(phi):\n",
    "    global a_1, a_2, a_3, x, y, z, r\n",
    "    subs = [(a_1, 1), (a_2, 1), (a_3, 1), (x * x + y * y + z * z, r * r)]\n",
    "    return phi.subs(subs)\n",
    "\n",
    "def changeVariables(func):\n",
    "    global tau\n",
    "    return func.subs(tau, omega / (1 - omega)) / (1 - omega) ** 2\n",
    "\n",
    "def gradToLatex(grad):\n",
    "    new_m = r'm(\\vec{x}, \\tau)'\n",
    "    latex = [spy.latex(g).replace('m ', new_m).replace(r'm\\right)', new_m + r'\\right)') for g in grad]\n",
    "    txt = r\"\"\"\\nabla \\Phi = \n",
    "        \\left(\\begin{array}{l}\n",
    "        %s, \\\\\n",
    "        %s, \\\\\n",
    "        %s\n",
    "        \\end{array}\\right)\"\"\" % tuple(latex)\n",
    "    print(txt)"
   ]
  },
  {
   "cell_type": "markdown",
   "metadata": {},
   "source": [
    "# Potentials"
   ]
  },
  {
   "cell_type": "code",
   "execution_count": 4,
   "metadata": {},
   "outputs": [],
   "source": [
    "G, tau, omega = spy.symbols(r'G \\tau \\omega', real = True, positive = True)\n",
    "r, m, x, y, z, a_1, a_2, a_3 = spy.symbols(\"r m x y z a_1 a_2 a_3\", real = True, positive = True)\n",
    "\n",
    "m_int = [i ** 2 / (a ** 2 + tau) for (i, a) in zip([x, y, z], [a_1, a_2, a_3])]\n",
    "m_int = spy.sqrt(a_1 ** 2 * sum(m_int))"
   ]
  },
  {
   "cell_type": "markdown",
   "metadata": {},
   "source": [
    "# NFW"
   ]
  },
  {
   "cell_type": "code",
   "execution_count": 5,
   "metadata": {},
   "outputs": [],
   "source": [
    "rho_0, R_s = spy.symbols(r\"\\rho_0 R_s\", real = True, positive = True)"
   ]
  },
  {
   "cell_type": "code",
   "execution_count": 6,
   "metadata": {},
   "outputs": [
    {
     "data": {
      "image/png": "[encoded data removed]",
      "text/latex": [
       "$$\\frac{R_{s} \\rho_0}{m \\left(1 + \\frac{m}{R_{s}}\\right)^{2}}$$"
      ],
      "text/plain": [
       "  Rₛ⋅\\rho₀ \n",
       "───────────\n",
       "          2\n",
       "  ⎛    m ⎞ \n",
       "m⋅⎜1 + ──⎟ \n",
       "  ⎝    Rₛ⎠ "
      ]
     },
     "execution_count": 6,
     "metadata": {},
     "output_type": "execute_result"
    }
   ],
   "source": [
    "NFW = rho_0 / ((m / R_s) * (1 + m / R_s) ** 2)\n",
    "NFW"
   ]
  },
  {
   "cell_type": "code",
   "execution_count": 7,
   "metadata": {},
   "outputs": [
    {
     "data": {
      "image/png": "[encoded data removed]",
      "text/latex": [
       "$$- \\frac{2 \\pi G R_{s}^{3} \\rho_0 a_{2} a_{3}}{a_{1} \\left(R_{s} + m\\right) \\sqrt{\\tau + a_{1}^{2}} \\sqrt{\\tau + a_{2}^{2}} \\sqrt{\\tau + a_{3}^{2}}}$$"
      ],
      "text/plain": [
       "                           3                               \n",
       "                  -2⋅π⋅G⋅Rₛ ⋅\\rho₀⋅a₂⋅a₃                   \n",
       "───────────────────────────────────────────────────────────\n",
       "               ____________    ____________    ____________\n",
       "              ╱          2    ╱          2    ╱          2 \n",
       "a₁⋅(Rₛ + m)⋅╲╱  \\tau + a₁  ⋅╲╱  \\tau + a₂  ⋅╲╱  \\tau + a₃  "
      ]
     },
     "execution_count": 7,
     "metadata": {},
     "output_type": "execute_result"
    }
   ],
   "source": [
    "Phi = getPotential(NFW)\n",
    "Phi"
   ]
  },
  {
   "cell_type": "code",
   "execution_count": 8,
   "metadata": {},
   "outputs": [
    {
     "name": "stdout",
     "output_type": "stream",
     "text": [
      "\\nabla \\Phi = \n",
      "        \\left(\\begin{array}{l}\n",
      "        \\frac{2 \\pi G R_{s}^{3} \\rho_0 a_{2} a_{3} x}{m(\\vec{x}, \\tau)\\left(R_{s} + a_{1} m(\\vec{x}, \\tau)\\right)^{2} \\left(\\tau + a_{1}^{2}\\right)^{\\frac{3}{2}} \\sqrt{\\tau + a_{2}^{2}} \\sqrt{\\tau + a_{3}^{2}}}, \\\\\n",
      "        \\frac{2 \\pi G R_{s}^{3} \\rho_0 a_{2} a_{3} y}{m(\\vec{x}, \\tau)\\left(R_{s} + a_{1} m(\\vec{x}, \\tau)\\right)^{2} \\sqrt{\\tau + a_{1}^{2}} \\left(\\tau + a_{2}^{2}\\right)^{\\frac{3}{2}} \\sqrt{\\tau + a_{3}^{2}}}, \\\\\n",
      "        \\frac{2 \\pi G R_{s}^{3} \\rho_0 a_{2} a_{3} z}{m(\\vec{x}, \\tau)\\left(R_{s} + a_{1} m(\\vec{x}, \\tau)\\right)^{2} \\sqrt{\\tau + a_{1}^{2}} \\sqrt{\\tau + a_{2}^{2}} \\left(\\tau + a_{3}^{2}\\right)^{\\frac{3}{2}}}\n",
      "        \\end{array}\\right)\n"
     ]
    }
   ],
   "source": [
    "grad = gradient(Phi)\n",
    "gradToLatex(grad)"
   ]
  },
  {
   "cell_type": "markdown",
   "metadata": {},
   "source": [
    "# Hernquist"
   ]
  },
  {
   "cell_type": "code",
   "execution_count": 9,
   "metadata": {},
   "outputs": [
    {
     "data": {
      "image/png": "[encoded data removed]",
      "text/latex": [
       "$$\\frac{M_{s}}{2 \\pi m \\left(\\mathcal{R_s} + m\\right)^{3}}$$"
      ],
      "text/plain": [
       "            Mₛ            \n",
       "──────────────────────────\n",
       "                         3\n",
       "2⋅π⋅m⋅(\\mathcal{R_s} + m) "
      ]
     },
     "execution_count": 9,
     "metadata": {},
     "output_type": "execute_result"
    }
   ],
   "source": [
    "M_s, r_s = spy.symbols(r\"M_s \\mathcal{R_s}\", real = True, positive = True)\n",
    "Hernquist = M_s / (2 * spy.pi * m * (m + r_s) ** 3)\n",
    "Hernquist"
   ]
  },
  {
   "cell_type": "code",
   "execution_count": 10,
   "metadata": {},
   "outputs": [
    {
     "data": {
      "image/png": "[encoded data removed]",
      "text/latex": [
       "$$- \\frac{G M_{s} a_{2} a_{3}}{2 a_{1} \\sqrt{\\tau + a_{1}^{2}} \\sqrt{\\tau + a_{2}^{2}} \\sqrt{\\tau + a_{3}^{2}} \\left(\\mathcal{R_s}^{2} + 2 \\mathcal{R_s} m + m^{2}\\right)}$$"
      ],
      "text/plain": [
       "                                         -G⋅Mₛ⋅a₂⋅a₃                          \n",
       "──────────────────────────────────────────────────────────────────────────────\n",
       "        ____________    ____________    ____________                          \n",
       "       ╱          2    ╱          2    ╱          2  ⎛             2          \n",
       "2⋅a₁⋅╲╱  \\tau + a₁  ⋅╲╱  \\tau + a₂  ⋅╲╱  \\tau + a₃  ⋅⎝\\mathcal{R_s}  + 2⋅\\math\n",
       "\n",
       "                \n",
       "────────────────\n",
       "                \n",
       "              2⎞\n",
       "cal{R_s}⋅m + m ⎠"
      ]
     },
     "execution_count": 10,
     "metadata": {},
     "output_type": "execute_result"
    }
   ],
   "source": [
    "Phi = getPotential(Hernquist)\n",
    "Phi"
   ]
  },
  {
   "cell_type": "code",
   "execution_count": 11,
   "metadata": {},
   "outputs": [
    {
     "name": "stdout",
     "output_type": "stream",
     "text": [
      "\\nabla \\Phi = \n",
      "        \\left(\\begin{array}{l}\n",
      "        - \\frac{G M_{s} a_{2} a_{3} \\left(- \\frac{2 \\mathcal{R_s} a_{1} x}{m(\\vec{x}, \\tau)\\left(\\tau + a_{1}^{2}\\right)} - \\frac{2 a_{1}^{2} x}{\\tau + a_{1}^{2}}\\right)}{2 a_{1} \\sqrt{\\tau + a_{1}^{2}} \\sqrt{\\tau + a_{2}^{2}} \\sqrt{\\tau + a_{3}^{2}} \\left(\\mathcal{R_s}^{2} + 2 \\mathcal{R_s} a_{1} m(\\vec{x}, \\tau)+ a_{1}^{2} m^{2}\\right)^{2}}, \\\\\n",
      "        - \\frac{G M_{s} a_{2} a_{3} \\left(- \\frac{2 \\mathcal{R_s} a_{1} y}{m(\\vec{x}, \\tau)\\left(\\tau + a_{2}^{2}\\right)} - \\frac{2 a_{1}^{2} y}{\\tau + a_{2}^{2}}\\right)}{2 a_{1} \\sqrt{\\tau + a_{1}^{2}} \\sqrt{\\tau + a_{2}^{2}} \\sqrt{\\tau + a_{3}^{2}} \\left(\\mathcal{R_s}^{2} + 2 \\mathcal{R_s} a_{1} m(\\vec{x}, \\tau)+ a_{1}^{2} m^{2}\\right)^{2}}, \\\\\n",
      "        - \\frac{G M_{s} a_{2} a_{3} \\left(- \\frac{2 \\mathcal{R_s} a_{1} z}{m(\\vec{x}, \\tau)\\left(\\tau + a_{3}^{2}\\right)} - \\frac{2 a_{1}^{2} z}{\\tau + a_{3}^{2}}\\right)}{2 a_{1} \\sqrt{\\tau + a_{1}^{2}} \\sqrt{\\tau + a_{2}^{2}} \\sqrt{\\tau + a_{3}^{2}} \\left(\\mathcal{R_s}^{2} + 2 \\mathcal{R_s} a_{1} m(\\vec{x}, \\tau)+ a_{1}^{2} m^{2}\\right)^{2}}\n",
      "        \\end{array}\\right)\n"
     ]
    }
   ],
   "source": [
    "grad = gradient(Phi)\n",
    "gradToLatex(grad)"
   ]
  },
  {
   "cell_type": "markdown",
   "metadata": {},
   "source": [
    "# Plots"
   ]
  },
  {
   "cell_type": "code",
   "execution_count": 12,
   "metadata": {},
   "outputs": [],
   "source": [
    "# fig, ax, cbar = smbh.slice3d(1e-2, 15, smbh.darkMatterDensity, points = 50)\n",
    "\n",
    "# fig.savefig(\"symmetric.png\", dpi = 300)\n",
    "# plt.show()"
   ]
  },
  {
   "cell_type": "code",
   "execution_count": 13,
   "metadata": {},
   "outputs": [],
   "source": [
    "# smbh.setTriaxalCoeffs(1.5, 1, 0.5)"
   ]
  },
  {
   "cell_type": "code",
   "execution_count": 14,
   "metadata": {},
   "outputs": [],
   "source": [
    "# fig, ax, cbar = smbh.slice3d(1e-2, 15, smbh.darkMatterDensityTriaxial, points = 50, symmetric = False)\n",
    "\n",
    "# fig.savefig(\"triaxial.png\", dpi = 300)\n",
    "# plt.show()"
   ]
  }
 ],
 "metadata": {
  "kernelspec": {
   "display_name": "tesisFisica",
   "language": "python",
   "name": "tesisfisica"
  },
  "language_info": {
   "codemirror_mode": {
    "name": "ipython",
    "version": 3
   },
   "file_extension": ".py",
   "mimetype": "text/x-python",
   "name": "python",
   "nbconvert_exporter": "python",
   "pygments_lexer": "ipython3",
   "version": "3.6.7"
  }
 },
 "nbformat": 4,
 "nbformat_minor": 2
}
