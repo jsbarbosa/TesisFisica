{
 "cells": [
  {
   "cell_type": "code",
   "execution_count": 1,
   "metadata": {},
   "outputs": [],
   "source": [
    "import sys\n",
    "sys.path += [\"..\"]\n",
    "\n",
    "import smbh\n",
    "import numpy as np\n",
    "import matplotlib.pyplot as plt"
   ]
  },
  {
   "cell_type": "code",
   "execution_count": 2,
   "metadata": {},
   "outputs": [],
   "source": [
    "def newDensity(r, a = 1e-3, alpha = 0, beta = 2.2):\n",
    "    return 1 / ((r / a) ** alpha * (1 + r / a) ** (beta - alpha))\n",
    "\n",
    "def oldDensity(r, a = 1e-3, n = -2.2):\n",
    "    try:\n",
    "        if(r < a): return 1\n",
    "        else: return (a / r) ** -n\n",
    "    except ValueError:\n",
    "        d = r.copy()\n",
    "        d[r < a] = 1\n",
    "        d[r >= a] = (a / r[r >= a]) ** -n\n",
    "        return d"
   ]
  },
  {
   "cell_type": "code",
   "execution_count": 3,
   "metadata": {},
   "outputs": [
    {
     "data": {
      "image/png": "[encoded data removed]",
      "text/plain": [
       "<Figure size 576x324 with 1 Axes>"
      ]
     },
     "metadata": {
      "needs_background": "light"
     },
     "output_type": "display_data"
    }
   ],
   "source": [
    "r = np.logspace(-5, 1)\n",
    "\n",
    "rho_o = oldDensity(r)\n",
    "rho_n = newDensity(r)\n",
    "\n",
    "fig, ax = plt.subplots(figsize = (8, 4.5))\n",
    "\n",
    "ax.plot(r, rho_o, label = 'Old law')\n",
    "ax.plot(r, rho_n, label = 'Double law')\n",
    "ax.set_xscale('log')\n",
    "ax.set_yscale('log')\n",
    "\n",
    "ax.set_ylabel(r'$\\rho/\\rho_0$')\n",
    "ax.set_xlabel('Distance (r)')\n",
    "\n",
    "ax.legend()\n",
    "\n",
    "ax.grid()"
   ]
  },
  {
   "cell_type": "code",
   "execution_count": 4,
   "metadata": {},
   "outputs": [],
   "source": [
    "import sympy as spy\n",
    "spy.init_printing()"
   ]
  },
  {
   "cell_type": "code",
   "execution_count": 5,
   "metadata": {},
   "outputs": [],
   "source": [
    "def gradient(Phi):\n",
    "    global a_1, a_2, a_3, x, y, z, m, m_int, phi_x, phi_y, phi_z, phi_1, phi_2, phi_3\n",
    "    phi = Phi.subs(m, m_int)\n",
    "    dim = [x, y, z]\n",
    "    phis = [phi_x, phi_y, phi_z]\n",
    "    phis_ = [phi_1, phi_2, phi_3]\n",
    "    \n",
    "    r = []\n",
    "    for (x_i, phi_x_i, phi_i) in zip(dim, phis, phis_):\n",
    "        t = phi.diff(x_i).subs(m_int / a_1, m / a_1).subs(m_int ** 2, m ** 2).simplify()\n",
    "        t = (t / phi_x_i).factor()\n",
    "        r.append(t)\n",
    "        \n",
    "    if r[0] == r[1]:\n",
    "        factor = r[0]\n",
    "        matrix = spy.Matrix(phis_)\n",
    "    else: \n",
    "        factor = 1\n",
    "        matrix = spy.Matrix(r)\n",
    "    return factor, matrix\n"
   ]
  },
  {
   "cell_type": "code",
   "execution_count": 6,
   "metadata": {},
   "outputs": [],
   "source": [
    "G, tau, omega, gamma = spy.symbols(r'G \\tau \\omega \\gamma', real = True, positive = True)\n",
    "m, x, y, z, a_1, a_2, a_3, phi_1, phi_2, phi_3 = spy.symbols(\"m x y z a_1 a_2 a_3 \\phi_1 \\phi_2 \\phi_3\",\n",
    "                                                                real = True, positive = True)\n",
    "\n",
    "m_int = [i ** 2 / (a ** 2 + tau) for (i, a) in zip([x, y, z], [a_1, a_2, a_3])]\n",
    "m_int = spy.sqrt(a_1 ** 2 * sum(m_int))\n",
    "\n",
    "phi_x = x / (spy.sqrt(tau + a_1 ** 2) ** 3 * spy.sqrt(tau + a_2 ** 2) * spy.sqrt(tau + a_3 ** 2))\n",
    "phi_y = y / (spy.sqrt(tau + a_2 ** 2) ** 3 * spy.sqrt(tau + a_1 ** 2) * spy.sqrt(tau + a_3 ** 2))\n",
    "phi_z = z / (spy.sqrt(tau + a_3 ** 2) ** 3 * spy.sqrt(tau + a_1 ** 2) * spy.sqrt(tau + a_2 ** 2))"
   ]
  },
  {
   "cell_type": "markdown",
   "metadata": {},
   "source": [
    "# New density"
   ]
  },
  {
   "cell_type": "code",
   "execution_count": 7,
   "metadata": {},
   "outputs": [],
   "source": [
    "r_0, rho_0, m, n, G = spy.symbols(r'r_0 rho_0 m n G', positive = True, real = True)"
   ]
  },
  {
   "cell_type": "code",
   "execution_count": 8,
   "metadata": {},
   "outputs": [
    {
     "data": {
      "image/png": "[encoded data removed]",
      "text/latex": [
       "$$\\rho_{0} \\left(\\frac{m}{r_{0}} + 1\\right)^{- n}$$"
      ],
      "text/plain": [
       "           -n\n",
       "   ⎛m     ⎞  \n",
       "ρ₀⋅⎜── + 1⎟  \n",
       "   ⎝r₀    ⎠  "
      ]
     },
     "execution_count": 8,
     "metadata": {},
     "output_type": "execute_result"
    }
   ],
   "source": [
    "rho = rho_0 * (1 + m / r_0)**-n\n",
    "rho"
   ]
  },
  {
   "cell_type": "markdown",
   "metadata": {},
   "source": [
    "## mass"
   ]
  },
  {
   "cell_type": "code",
   "execution_count": 9,
   "metadata": {},
   "outputs": [],
   "source": [
    "u = spy.symbols('u', positive = True, real = True)\n",
    "\n",
    "mass = 4 * spy.pi * m ** 2 * rho\n",
    "mass = mass.subs(m, u * r_0)\n",
    "integral = mass.integrate(u)\n",
    "integral = (integral - integral.subs(u, 0)).subs(u, m / r_0).simplify()"
   ]
  },
  {
   "cell_type": "code",
   "execution_count": 10,
   "metadata": {},
   "outputs": [],
   "source": [
    "subs = [(rho_0, 1), (r_0, 1e-3)]\n",
    "newMass = spy.lambdify([m, n], integral.subs(subs))"
   ]
  },
  {
   "cell_type": "code",
   "execution_count": 11,
   "metadata": {
    "scrolled": true
   },
   "outputs": [
    {
     "name": "stderr",
     "output_type": "stream",
     "text": [
      "<string>:2: RuntimeWarning: overflow encountered in power\n",
      "<string>:2: RuntimeWarning: divide by zero encountered in true_divide\n",
      "<string>:2: RuntimeWarning: invalid value encountered in true_divide\n"
     ]
    },
    {
     "data": {
      "image/png": "[encoded data removed]",
      "text/plain": [
       "<Figure size 432x288 with 1 Axes>"
      ]
     },
     "metadata": {
      "needs_background": "light"
     },
     "output_type": "display_data"
    }
   ],
   "source": [
    "for i in [1.5, 2., 2.2, 2.5]:\n",
    "    masses = newMass(r, i)\n",
    "    plt.plot(r, masses, label = '$n = %.1f$'%i)\n",
    "\n",
    "plt.xscale('log')\n",
    "plt.yscale('log')\n",
    "plt.legend()\n",
    "plt.grid()"
   ]
  },
  {
   "cell_type": "markdown",
   "metadata": {},
   "source": [
    "# Potential"
   ]
  },
  {
   "cell_type": "code",
   "execution_count": 12,
   "metadata": {},
   "outputs": [
    {
     "data": {
      "image/png": "[encoded data removed]",
      "text/latex": [
       "$$\\frac{2 \\rho_{0} \\left(\\frac{m + r_{0}}{r_{0}}\\right)^{- n} \\left(m + r_{0}\\right) \\left(m \\left(n - 1\\right) + r_{0}\\right)}{\\left(n - 2\\right) \\left(n - 1\\right)}$$"
      ],
      "text/plain": [
       "             -n                          \n",
       "     ⎛m + r₀⎞                            \n",
       "2⋅ρ₀⋅⎜──────⎟  ⋅(m + r₀)⋅(m⋅(n - 1) + r₀)\n",
       "     ⎝  r₀  ⎠                            \n",
       "─────────────────────────────────────────\n",
       "             (n - 2)⋅(n - 1)             "
      ]
     },
     "metadata": {},
     "output_type": "display_data"
    },
    {
     "name": "stdout",
     "output_type": "stream",
     "text": [
      "\\frac{2 \\rho_{0} \\left(\\frac{m + r_{0}}{r_{0}}\\right)^{- n} \\left(m + r_{0}\\right) \\left(m \\left(n - 1\\right) + r_{0}\\right)}{\\left(n - 2\\right) \\left(n - 1\\right)}\n"
     ]
    }
   ],
   "source": [
    "psi = (2 * rho_0 * (r_0 + m) * ((r_0 + m) / r_0) ** -n * (r_0 + (n - 1) * m)) / ((n - 2) * (n - 1))\n",
    "display(psi)\n",
    "print(spy.latex(psi))"
   ]
  },
  {
   "cell_type": "code",
   "execution_count": 13,
   "metadata": {},
   "outputs": [
    {
     "data": {
      "image/png": "[encoded data removed]",
      "text/latex": [
       "$$- \\frac{2 \\pi G a_{2} a_{3} \\rho_{0} \\left(\\frac{m + r_{0}}{r_{0}}\\right)^{- n} \\left(m + r_{0}\\right) \\left(m \\left(n - 1\\right) + r_{0}\\right)}{a_{1} \\sqrt{\\tau + a_{1}^{2}} \\sqrt{\\tau + a_{2}^{2}} \\sqrt{\\tau + a_{3}^{2}} \\left(n - 2\\right) \\left(n - 1\\right)}$$"
      ],
      "text/plain": [
       "                              -n                                  \n",
       "                      ⎛m + r₀⎞                                    \n",
       "      -2⋅π⋅G⋅a₂⋅a₃⋅ρ₀⋅⎜──────⎟  ⋅(m + r₀)⋅(m⋅(n - 1) + r₀)        \n",
       "                      ⎝  r₀  ⎠                                    \n",
       "──────────────────────────────────────────────────────────────────\n",
       "      ____________    ____________    ____________                \n",
       "     ╱          2    ╱          2    ╱          2                 \n",
       "a₁⋅╲╱  \\tau + a₁  ⋅╲╱  \\tau + a₂  ⋅╲╱  \\tau + a₃  ⋅(n - 2)⋅(n - 1)"
      ]
     },
     "execution_count": 13,
     "metadata": {},
     "output_type": "execute_result"
    }
   ],
   "source": [
    "phi = - spy.pi * G * (a_2 * a_3 / a_1) * psi / spy.sqrt((tau + a_1 ** 2) * (tau + a_2 ** 2) * (tau + a_3 ** 2))\n",
    "phi"
   ]
  },
  {
   "cell_type": "code",
   "execution_count": 14,
   "metadata": {},
   "outputs": [
    {
     "data": {
      "image/png": "[encoded data removed]",
      "text/latex": [
       "$$\\left ( 2 \\pi G a_{1} a_{2} a_{3} r_{0}^{n} \\rho_{0} \\left(m + r_{0}\\right)^{- n}, \\quad \\left[\\begin{matrix}\\phi_1\\\\\\phi_2\\\\\\phi_3\\end{matrix}\\right]\\right )$$"
      ],
      "text/plain": [
       "⎛                                  ⎡\\phi₁⎤⎞\n",
       "⎜                 n            -n  ⎢     ⎥⎟\n",
       "⎜2⋅π⋅G⋅a₁⋅a₂⋅a₃⋅r₀ ⋅ρ₀⋅(m + r₀)  , ⎢\\phi₂⎥⎟\n",
       "⎜                                  ⎢     ⎥⎟\n",
       "⎝                                  ⎣\\phi₃⎦⎠"
      ]
     },
     "execution_count": 14,
     "metadata": {},
     "output_type": "execute_result"
    }
   ],
   "source": [
    "factor, vector = gradient(phi)\n",
    "factor, vector"
   ]
  },
  {
   "cell_type": "code",
   "execution_count": 15,
   "metadata": {},
   "outputs": [
    {
     "name": "stdout",
     "output_type": "stream",
     "text": [
      "2 \\pi G a_{1} a_{2} a_{3} r_{0}^{n} \\rho_{0} \\left(m + r_{0}\\right)^{- n}\n"
     ]
    }
   ],
   "source": [
    "print(spy.latex(factor))"
   ]
  }
 ],
 "metadata": {
  "kernelspec": {
   "display_name": "tesisFisica",
   "language": "python",
   "name": "tesisfisica"
  },
  "language_info": {
   "codemirror_mode": {
    "name": "ipython",
    "version": 3
   },
   "file_extension": ".py",
   "mimetype": "text/x-python",
   "name": "python",
   "nbconvert_exporter": "python",
   "pygments_lexer": "ipython3",
   "version": "3.6.7"
  }
 },
 "nbformat": 4,
 "nbformat_minor": 2
}
